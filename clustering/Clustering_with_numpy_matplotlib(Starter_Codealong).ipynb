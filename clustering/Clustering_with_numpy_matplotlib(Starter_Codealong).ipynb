{
  "cells": [
    {
      "cell_type": "markdown",
      "metadata": {
        "id": "j6lNQGS3dKNx"
      },
      "source": [
        "# **HunterCS Topics: Clustering Code-Along**\n",
        "\n",
        "In this Colab, you will learn how to use some basic commands with numpy and matplotlib packages.  Then, you will use those functions to write an algorithm to cluster & visualize data using the k-means clustering algorithm for a 1-dimensional set of data."
      ]
    },
    {
      "cell_type": "markdown",
      "metadata": {
        "id": "n9SBztBGDmFK"
      },
      "source": [
        "# (1) Generating Random Data with numpy\n",
        "When trying to write an algorithm, we want to make sure we know what the outcome will be. We'll generate data that has obvious clusters so that we can check that our clustering algorithm works properly."
      ]
    },
    {
      "cell_type": "markdown",
      "metadata": {
        "id": "rSxWFwEksfVB"
      },
      "source": [
        "**numpy** Functions that Generate Random Numbers:\n",
        "* [np.random.randint](https://numpy.org/doc/stable/reference/random/generated/numpy.random.randint.html#numpy.random.randint) - generates a random int across a range\n",
        "* [np.random.uniform](https://numpy.org/doc/stable/reference/random/generated/numpy.random.uniform.html) - generates a random float across a range\n",
        "* [np.random.normal](https://numpy.org/doc/stable/reference/random/generated/numpy.random.normal.html#numpy.random.normal) - generates a random float across a normal distribution\n",
        "* [np.random.choice](https://numpy.org/doc/stable/reference/random/generated/numpy.random.choice.html#numpy-random-choice) - chooses a random number from an array\n",
        "\n"
      ]
    },
    {
      "cell_type": "code",
      "execution_count": null,
      "metadata": {
        "colab": {
          "background_save": true
        },
        "id": "HKeg9bvOWFat"
      },
      "outputs": [],
      "source": [
        "# Import numpy\n"
      ]
    },
    {
      "cell_type": "code",
      "execution_count": null,
      "metadata": {
        "colab": {
          "background_save": true
        },
        "id": "K9mxuaEKdD8s"
      },
      "outputs": [],
      "source": [
        "# Generate 1 random int from 0 to 100\n"
      ]
    },
    {
      "cell_type": "code",
      "execution_count": null,
      "metadata": {
        "colab": {
          "background_save": true
        },
        "id": "Mtrz_WGBdFo0"
      },
      "outputs": [],
      "source": [
        "# Generate an array of 10 random ints from 0 to 100\n"
      ]
    },
    {
      "cell_type": "code",
      "execution_count": null,
      "metadata": {
        "colab": {
          "background_save": true
        },
        "id": "mr2CXaWadH88"
      },
      "outputs": [],
      "source": [
        "# Generate an array of 25 random floats from a uniform distribution\n"
      ]
    },
    {
      "cell_type": "code",
      "execution_count": null,
      "metadata": {
        "colab": {
          "background_save": true
        },
        "id": "CvYXE-8-dKTl"
      },
      "outputs": [],
      "source": [
        "# Generate an array of random floats from a normal dist\n",
        "# located with a center at 4, scale of 1.5 and size of 25\n"
      ]
    },
    {
      "cell_type": "markdown",
      "metadata": {
        "id": "oS8AGclmD5P7"
      },
      "source": [
        "# (2) Plotting Data with matplotlib\n",
        "\n",
        "**Matplotlib** is a very versatile plotting library for python (based on MATLAB). Here we will use it for data visualization, so that we can see the clustering in the data. We will be using the pyplot package in the matplotlib library."
      ]
    },
    {
      "cell_type": "markdown",
      "metadata": {
        "id": "IWqM3Sn3xrps"
      },
      "source": [
        "Useful **matplotlib.pyplot** functions:\n",
        "* [plt.hist](https://matplotlib.org/stable/api/_as_gen/matplotlib.pyplot.hist.html) - plots a histogram\n",
        "* [plt.scatter](https://matplotlib.org/stable/api/_as_gen/matplotlib.pyplot.scatter.html#matplotlib.pyplot.scatter) - plots a scatterplot\n",
        "* [plt.show](https://matplotlib.org/stable/api/_as_gen/matplotlib.pyplot.show.html) - used to show a plot after using multiple plot commands"
      ]
    },
    {
      "cell_type": "code",
      "execution_count": null,
      "metadata": {
        "colab": {
          "background_save": true
        },
        "id": "xVLfN53-WepQ"
      },
      "outputs": [],
      "source": [
        "#import matplotlib\n"
      ]
    },
    {
      "cell_type": "code",
      "execution_count": null,
      "metadata": {
        "colab": {
          "background_save": true
        },
        "id": "wwoO5KcOx3DL"
      },
      "outputs": [],
      "source": [
        "#Create a graph that shows frequency of points (aka histogram)\n"
      ]
    },
    {
      "cell_type": "code",
      "execution_count": null,
      "metadata": {
        "colab": {
          "background_save": true
        },
        "id": "Jz3INvkJguA5"
      },
      "outputs": [],
      "source": [
        "# Generate an array of zeros with a length of 25 to be the y-coordinates for our scatterplot\n"
      ]
    },
    {
      "cell_type": "markdown",
      "metadata": {
        "id": "iB3OC9pzGhql"
      },
      "source": [
        "# (3) Getting Data\n",
        "Most data science is done by importing data from a .csv (Comma Separated Value) file. Because our focus today is clustering, we will provide some simpler options:\n",
        "1. Generate random data to meet our desired criteria\n",
        "2. Provide data as a numpy array variable from a list\n",
        "3. Import data from a .csv file"
      ]
    },
    {
      "cell_type": "markdown",
      "metadata": {
        "id": "eVW9ZOivXHiL"
      },
      "source": [
        "## Option 3A: Getting Data from Random Numbers\n",
        "\n",
        "In order to make sure our algorithm works, we need to use data that will cluster predictably. We already generated `n1`, which includes 25 random floating-point numbers centered at 5; we'll create more arrays at other values the same way to make sure that we will have distinct clusters. Then we'll combine the arrays into a single dataset."
      ]
    },
    {
      "cell_type": "markdown",
      "metadata": {
        "id": "1A37tj3o1V4b"
      },
      "source": [
        "Useful **numpy** functions:\n",
        "\n",
        "* [np.concatenate](https://numpy.org/doc/stable/reference/generated/numpy.concatenate.html#numpy-concatenate) - combines multiple arrays into single array\n"
      ]
    },
    {
      "cell_type": "code",
      "execution_count": null,
      "metadata": {
        "colab": {
          "background_save": true
        },
        "id": "GuSVkrpFYa-E"
      },
      "outputs": [],
      "source": [
        "# Generate a second set of random numbers with a center at 10, scale of 1.5 and size of 25\n"
      ]
    },
    {
      "cell_type": "code",
      "execution_count": null,
      "metadata": {
        "colab": {
          "background_save": true
        },
        "id": "i5HmPBXKiPvh"
      },
      "outputs": [],
      "source": [
        "# Generate a third set of random numbers with a center at 16, scale of 1.5 and size of 25\n"
      ]
    },
    {
      "cell_type": "code",
      "execution_count": null,
      "metadata": {
        "colab": {
          "background_save": true
        },
        "id": "eoNqW0lMiQDH"
      },
      "outputs": [],
      "source": [
        "# Plot all 3 sets of random numbers\n",
        "# Note: Use the array of zeros we generated previously, ydata, for the y-axis plotting\n",
        "\n",
        "\n"
      ]
    },
    {
      "cell_type": "code",
      "execution_count": null,
      "metadata": {
        "colab": {
          "background_save": true
        },
        "id": "vpuL6lHUKQMo"
      },
      "outputs": [],
      "source": [
        "# [OPTIONAL] Create a histogram to plot the 3 sets of numbers\n",
        "# Use the bins parameter to determine how \"skinny\" the bars should be\n",
        "\n",
        "\n"
      ]
    },
    {
      "cell_type": "code",
      "execution_count": null,
      "metadata": {
        "colab": {
          "background_save": true
        },
        "id": "-gFnXOB-kU7z"
      },
      "outputs": [],
      "source": [
        "# Concatenate the 3 sets of random numbers into 1 larger data array\n",
        "# Note: the concatenate() function takes in an array of arrays, indicated by []\n"
      ]
    },
    {
      "cell_type": "code",
      "execution_count": null,
      "metadata": {
        "colab": {
          "background_save": true
        },
        "id": "6CBuk9b5kXfZ"
      },
      "outputs": [],
      "source": [
        "# Create a scatterplot the new set of data\n",
        "# Note: Update the ydata array of zeros to match the size of the bigger data array\n",
        "\n"
      ]
    },
    {
      "cell_type": "code",
      "execution_count": null,
      "metadata": {
        "colab": {
          "background_save": true
        },
        "id": "OXIkvL1poTWJ"
      },
      "outputs": [],
      "source": [
        "# [OPTIONAL] Create a histogram to show the data\n",
        "# Use the bins parameter to determine how \"skinny\" the bars should be\n",
        "# plt.hist(data, bins=20)\n"
      ]
    },
    {
      "cell_type": "markdown",
      "metadata": {
        "id": "A280Xv2yJ-z1"
      },
      "source": [
        "## Option 3B: Getting Data from a List\n",
        "Our class completed a survey about:\n",
        "* horror movie preferences\n",
        "* favorite number\n",
        "* preferred number of pets\n",
        "* how much to pay for shoes\n",
        "* height in inches\n",
        "\n",
        "This data was copied into a **numpy** array that can be checked for clustering."
      ]
    },
    {
      "cell_type": "code",
      "execution_count": null,
      "metadata": {
        "colab": {
          "background_save": true
        },
        "id": "4dWZWUCXlCOU"
      },
      "outputs": [],
      "source": [
        "# # Access arrays of data from our class survey\n",
        "# heights=np.array([65,72,65,60.5,70,77,60,65,67,67,65,60,73.5,60.25,63,68,69,62.5,63,63,70,69,57,68,64,70,67,72,66,72,68,67,63])\n",
        "# shoes=np.array([180,65,150,200,200,150,200,400,100,200,500,200,350,300,500,80,250,80,200,240,175,350,200,150,150,60,200,200,100,300,75,140,200])\n",
        "# horror=np.array([2.1,1.1,2.5,2.6,1.2,2.2,1.2,5.8,7.1,5.1,7.2,1.6,4.7,3.3,1.1,4.7,5.0,5.2,4.3,3.3,2.8,4.1,7.8,1.1,1.8,1.6,5.4,3.2,1.0,7.8,5.6,7.0,2.9])\n",
        "# fave_nums=np.array([7,7,2,8,7,9,4,7,7,3,10,1,3,9,2,4,7,6,10,7,7,7,10,7,2,8,4,8,9,10,7,1,5])\n",
        "# pets=np.array([4,0,2,3,0,2,1,2,3,2,0,1,1,3,0,4,0,0,1,3,1,4,1,0,2,2,0,0,2,5,2,1,0])\n",
        "# heights"
      ]
    },
    {
      "cell_type": "code",
      "execution_count": null,
      "metadata": {
        "colab": {
          "background_save": true
        },
        "id": "RSjr_9Yz-wc1"
      },
      "outputs": [],
      "source": [
        "# Assign arrays to be used for clustering (as data)\n",
        "# data = heights\n",
        "# data = shoes\n",
        "# data = horror\n",
        "# data=fave_nums       #not good for clustering with 1D data\n",
        "# data=pets            #not good for clustering with 1D data\n",
        "# data"
      ]
    },
    {
      "cell_type": "code",
      "execution_count": null,
      "metadata": {
        "colab": {
          "background_save": true
        },
        "id": "kB1M12Omnsua"
      },
      "outputs": [],
      "source": [
        "# Setup the ydata value\n",
        "# Note: if 1D data, make an array of zeros the same length as the xdata\n",
        "#ydata = heights\n",
        "# ydata = np.zeros(len(data))\n",
        "# ydata"
      ]
    },
    {
      "cell_type": "code",
      "execution_count": null,
      "metadata": {
        "colab": {
          "background_save": true
        },
        "id": "4WryRpVjWGMr"
      },
      "outputs": [],
      "source": [
        "# Plot the new set of data\n",
        "# plt.scatter(data, ydata)"
      ]
    },
    {
      "cell_type": "markdown",
      "metadata": {
        "id": "sgOutyfgtj6a"
      },
      "source": [
        "## Option 3C: Getting Data from a .CSV file\n",
        "**pandas** is a python module widely used for handling large data sets like those you might get from a .csv file.  A pandas \"Dataframe\" is the coding structure used to manipulate the data."
      ]
    },
    {
      "cell_type": "markdown",
      "metadata": {
        "id": "YV2yduWB8wA1"
      },
      "source": [
        "Useful **pandas** functions:\n",
        "\n",
        "* [pd.read_csv](https://pandas.pydata.org/docs/reference/api/pandas.read_csv.html) - import a csv file's data\n",
        "* [pd.to_numpy](https://pandas.pydata.org/docs/reference/api/pandas.DataFrame.to_numpy.html) - convert a pandas dataframe (or column)\n",
        "\n",
        "Notes:\n",
        "1. *Uncomment code segments to run*\n",
        "2. *Make sure to import a .csv file into the project, by placing it in the 'content' folder of the Colab*\n",
        "3. *You can find many real-world .csv datasets at [Kaggle.com](https://www.kaggle.com/datasets?fileType=csv)*"
      ]
    },
    {
      "cell_type": "code",
      "execution_count": null,
      "metadata": {
        "colab": {
          "background_save": true
        },
        "id": "volliTWb1asB"
      },
      "outputs": [],
      "source": [
        "# Import the pandas module\n",
        "# import pandas as pd"
      ]
    },
    {
      "cell_type": "code",
      "execution_count": null,
      "metadata": {
        "colab": {
          "background_save": true
        },
        "id": "-qMJlcul1fhY"
      },
      "outputs": [],
      "source": [
        "# Import data from a csv file as a \"dataframe\"\n",
        "# Note: Make sure you have a .csv file in your project folder (in Colab, check the \"content\" folder)\n",
        "# df = pd.read_csv('sample_data/california_housing_test.csv')\n",
        "# df"
      ]
    },
    {
      "cell_type": "code",
      "execution_count": null,
      "metadata": {
        "colab": {
          "background_save": true
        },
        "id": "_8IkeAr5nZdA"
      },
      "outputs": [],
      "source": [
        "# Examine one particular column of the data frame \n",
        "#df.population\n",
        "#df.total_rooms\n",
        "#df.median_income\n",
        "#df.median_house_value"
      ]
    },
    {
      "cell_type": "code",
      "execution_count": null,
      "metadata": {
        "colab": {
          "background_save": true
        },
        "id": "uTysUlIRIymh"
      },
      "outputs": [],
      "source": [
        "# Convert one of the columns from the dataframe to a numpy array\n",
        "# data = df.median_house_value.to_numpy()\n",
        "# data"
      ]
    },
    {
      "cell_type": "code",
      "execution_count": null,
      "metadata": {
        "colab": {
          "background_save": true
        },
        "id": "-f31AlayKxp1"
      },
      "outputs": [],
      "source": [
        "# Generate an array to use for the y-values (either zeros or actual data)\n",
        "# ydata = [0]*len(data)\n",
        "# ydata = df.population.to_numpy()  #option for 2D clustering"
      ]
    },
    {
      "cell_type": "code",
      "execution_count": null,
      "metadata": {
        "colab": {
          "background_save": true
        },
        "id": "2v0FJ12UWhJh"
      },
      "outputs": [],
      "source": [
        "# Plot the new set of data\n",
        "# Note: With a very large data set, 1D data will likely look like a straight line\n",
        "# but clusters may be much more visible with 2D data\n",
        "# plt.scatter(data, ydata)"
      ]
    },
    {
      "cell_type": "markdown",
      "metadata": {
        "id": "yi8jvu09W7DC"
      },
      "source": [
        "# (4) Setting up the k-means Clustering Algorithm\n",
        "Now that we have data to work with, we should begin setting up the structure for our k-means clustering algorithm.\n",
        "\n",
        "\n",
        "\n",
        "Important design decisions include: \n",
        "* `k` - How many clusters do we want to sort the data into?\n",
        "* `centroids` - What is the value at the center of all the data points of a particular cluster?  How will we decide on the initial centroid values of those clusters?\n",
        "* `labels` - How will we determine which cluster each data point will be assigned to?"
      ]
    },
    {
      "cell_type": "markdown",
      "metadata": {
        "id": "gG_YFCdfXuV1"
      },
      "source": [
        "Useful numpy functions:\n",
        "* [np.random.choice](https://numpy.org/doc/stable/reference/random/generated/numpy.random.choice.html#numpy-random-choice) - chooses a random number from an array\n",
        "* [np.random.uniform](https://numpy.org/doc/stable/reference/random/generated/numpy.random.uniform.html) - generates a random float across a range\n",
        "* [np.min](https://numpy.org/doc/stable/reference/generated/numpy.ndarray.min.html) - selects the minimum value from a numpy array\n",
        "* [np.max](https://numpy.org/doc/stable/reference/generated/numpy.ndarray.max.html) - selects the maximum value from a numpy array\n",
        "* [np.zeros](https://numpy.org/doc/stable/reference/generated/numpy.zeros.html#numpy.zeros) - generates an array of zeros"
      ]
    },
    {
      "cell_type": "code",
      "execution_count": null,
      "metadata": {
        "colab": {
          "background_save": true
        },
        "id": "edwHSiBhj6Wc"
      },
      "outputs": [],
      "source": [
        "# Define the number of clusters (k) you expect in the data\n"
      ]
    },
    {
      "cell_type": "code",
      "execution_count": null,
      "metadata": {
        "colab": {
          "background_save": true
        },
        "id": "Qrzv1qtyj8Jk"
      },
      "outputs": [],
      "source": [
        "# Choose 3 random points to be your starting values for the centroids\n",
        "# Note: Make sure no 2 centroids are the same value\n"
      ]
    },
    {
      "cell_type": "code",
      "execution_count": null,
      "metadata": {
        "colab": {
          "background_save": true
        },
        "id": "Vj8SJl78kA4q"
      },
      "outputs": [],
      "source": [
        "# Create an array of zeros that will store the labels for which cluster each data point should belong to\n",
        "# (ie. Cluster label 0, Cluster label 1, and Cluster label 2, etc)\n",
        "# Note: We need these to be integers and not floats, so use the dtype=np.int8 parameter\n",
        "\n"
      ]
    },
    {
      "cell_type": "markdown",
      "metadata": {
        "id": "IOgH04ROawXo"
      },
      "source": [
        "# (5) Updating clusters (centroids & labels)\n",
        "To continue the k-means clustering algorithm, we now need to assign every data point to one of our clusters, depending on which cluster's centroid is closest."
      ]
    },
    {
      "cell_type": "markdown",
      "metadata": {
        "id": "xM-j_elFZwTj"
      },
      "source": [
        "Useful numpy functions:\n",
        "* [np.zeros](https://numpy.org/doc/stable/reference/generated/numpy.zeros.html#numpy.zeros) - generates an array of zeros\n",
        "* [np.argmin](https://numpy.org/doc/stable/reference/generated/numpy.argmin.html) - returns the index of the minimum value of an array\n",
        "* [np.mean](https://numpy.org/doc/stable/reference/generated/numpy.mean.html#numpy.mean) - finds the mean of an array"
      ]
    },
    {
      "cell_type": "markdown",
      "metadata": {
        "id": "-6gPiYIomJF4"
      },
      "source": [
        "## Option 5A: Updating Clusters Once\n",
        "Write segments of code that will create a first guess at the best way to cluster the data points."
      ]
    },
    {
      "cell_type": "code",
      "execution_count": null,
      "metadata": {
        "colab": {
          "background_save": true
        },
        "id": "iWiBXCOazUD_"
      },
      "outputs": [],
      "source": [
        "# For every data-point, calculate the distance to each of the k centroids\n",
        "# Store the distances in an array (data's size-long) of arrays (k-long) \n",
        "\n",
        "\n",
        "\n"
      ]
    },
    {
      "cell_type": "code",
      "execution_count": null,
      "metadata": {
        "colab": {
          "background_save": true
        },
        "id": "3yaQ8KqmzlRG"
      },
      "outputs": [],
      "source": [
        "# Assign each data-point to a cluster (whichever centroid is closest)\n",
        "\n",
        "\n"
      ]
    },
    {
      "cell_type": "code",
      "execution_count": null,
      "metadata": {
        "colab": {
          "background_save": true
        },
        "id": "mEo5S8zA6AKT"
      },
      "outputs": [],
      "source": [
        "# Update the centroid values to better match the assigned data-points\n",
        "# Note: You can filter out a subset of the array with [labels == i]\n",
        "\n",
        "\n"
      ]
    },
    {
      "cell_type": "code",
      "execution_count": null,
      "metadata": {
        "colab": {
          "background_save": true
        },
        "id": "hnUPy0LToTu7"
      },
      "outputs": [],
      "source": [
        "# Generate ycentroids\n",
        "# Note: if 1D data, make an array of zeros the same length as the xcentroids\n",
        "\n",
        "\n"
      ]
    },
    {
      "cell_type": "markdown",
      "metadata": {
        "id": "LQJE-7Gfa1Cg"
      },
      "source": [
        "## Option 5B: Updating Clusters in a Loop (n Times)\n",
        "Write a code block that will repeat all of the code blocks from Section 5A a constant number of times, `n`."
      ]
    },
    {
      "cell_type": "code",
      "execution_count": null,
      "metadata": {
        "colab": {
          "background_save": true
        },
        "id": "FH_qDi3Cmlih"
      },
      "outputs": [],
      "source": [
        "# Copy all of Updating Clusters code (5A) into a loop\n",
        "# Setup the loop to exit after n times\n",
        "\n",
        "  #print out the centroids each iteration of the loop\n",
        "  "
      ]
    },
    {
      "cell_type": "markdown",
      "metadata": {
        "id": "ElzDq468bbop"
      },
      "source": [
        "## Option 5C: Updating Clusters Until Convergence\n",
        "Write a code block that will repeat all of the code blocks from Section 5A until the clusters converge stop changing or \"converge\".  Convergence can be checked for if either the labels array or the centroids are stop changing.\n",
        "\n"
      ]
    },
    {
      "cell_type": "markdown",
      "metadata": {
        "id": "4ftoTBFRiEa7"
      },
      "source": [
        "Additional features within your loop should:\n",
        "* `# Store the labels/centroids from each previous iteration`\n",
        "* `# Check if the old labels/centroids are equivalent to the new labels/centroids`"
      ]
    },
    {
      "cell_type": "code",
      "execution_count": null,
      "metadata": {
        "colab": {
          "background_save": true
        },
        "id": "4krRtYhqONmE"
      },
      "outputs": [],
      "source": [
        "# Copy all of Updating Clusters code (5A) into a loop\n",
        "# Setup the loop to exit after convergence\n",
        "# [OPTIONAL] Setup the loop to exit after convergence OR end early after n iterations\n",
        "\n"
      ]
    },
    {
      "cell_type": "markdown",
      "metadata": {
        "id": "eCSS9nbKcEYr"
      },
      "source": [
        "# (6) Plotting the Clusters\n",
        "Use the matplotlib functions to display a graph showing the data points colored by cluster with clear markers indicating where the centroids are for each cluster."
      ]
    },
    {
      "cell_type": "markdown",
      "metadata": {
        "id": "FB2pY6zTccCv"
      },
      "source": [
        "Useful matplotlib functions:\n",
        "* [plt.scatter](https://matplotlib.org/stable/api/_as_gen/matplotlib.pyplot.scatter.html#matplotlib.pyplot.scatter) - plots a scatterplot\n",
        "  * `x` parameter to specify data on horizontal axis\n",
        "  * `y` parameter to specify data on vertical axis\n",
        "  * `s` paramter to specify size of the plot marker\n",
        "  * `c` parameter to specify a list to color\n",
        "  * `marker` parameter to choose a [shape/character](https://matplotlib.org/stable/api/markers_api.html) to mark points\n",
        "  * `linewidths` parameter to specify how thick the marker should be\n",
        "  * `color` parameter to specify one specific color\n",
        "* [plt.xlabel](https://matplotlib.org/stable/api/_as_gen/matplotlib.pyplot.xlabel.html) - adds label to x-axis\n",
        "* [plt.ylabel](https://matplotlib.org/stable/api/_as_gen/matplotlib.pyplot.ylabel.html) - adds label to y-axis\n",
        "* [plt.title](https://matplotlib.org/stable/api/_as_gen/matplotlib.pyplot.title.html) - adds title to plot\n",
        "* [plt.show](https://matplotlib.org/stable/api/_as_gen/matplotlib.pyplot.show.html) - used to show a plot after using multiple plot commands"
      ]
    },
    {
      "cell_type": "code",
      "execution_count": null,
      "metadata": {
        "colab": {
          "background_save": true
        },
        "id": "kVC7eA9kqSHp"
      },
      "outputs": [],
      "source": [
        "# Create a scatterplot with all the datapoints\n",
        "# Note: Use c=labels parameter to color the dots based on their cluster\n"
      ]
    },
    {
      "cell_type": "code",
      "execution_count": null,
      "metadata": {
        "colab": {
          "background_save": true
        },
        "id": "KkLcrFUkqVIP"
      },
      "outputs": [],
      "source": [
        "# Create a scatterplot that adds the centroids with a red plus-sign (+) markers\n",
        "# Note: Look in the documentation for the optional parameters to add\n"
      ]
    },
    {
      "cell_type": "code",
      "execution_count": null,
      "metadata": {
        "colab": {
          "background_save": true
        },
        "id": "nmHnTNggqYfI"
      },
      "outputs": [],
      "source": [
        "# Plot both the datapoints AND red plus-sign(+)'s on the same plot\n",
        "# Note: Copy the lines of code from the previous block \n",
        "\n",
        "\n",
        "#display the scatterplot\n"
      ]
    }
  ],
  "metadata": {
    "colab": {
      "collapsed_sections": [
        "n9SBztBGDmFK",
        "oS8AGclmD5P7",
        "eVW9ZOivXHiL",
        "sgOutyfgtj6a",
        "yi8jvu09W7DC",
        "IOgH04ROawXo",
        "-6gPiYIomJF4",
        "eCSS9nbKcEYr"
      ],
      "provenance": []
    },
    "kernelspec": {
      "display_name": "Python 3",
      "name": "python3"
    },
    "language_info": {
      "name": "python"
    }
  },
  "nbformat": 4,
  "nbformat_minor": 0
}