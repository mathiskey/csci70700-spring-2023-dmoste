{
  "nbformat": 4,
  "nbformat_minor": 0,
  "metadata": {
    "colab": {
      "provenance": [],
      "collapsed_sections": [
        "sgOutyfgtj6a",
        "LQJE-7Gfa1Cg",
        "ElzDq468bbop"
      ]
    },
    "kernelspec": {
      "name": "python3",
      "display_name": "Python 3"
    },
    "language_info": {
      "name": "python"
    }
  },
  "cells": [
    {
      "cell_type": "markdown",
      "source": [
        "# **HunterCS Topics: Clustering Code-Along**\n",
        "\n",
        "In this Colab, you will learn how to use some basic commands with numpy and matplotlib packages.  Then, you will use those functions to write an algorithm to cluster & visualize data using the k-means clustering algorithm for a 1-dimensional set of data."
      ],
      "metadata": {
        "id": "j6lNQGS3dKNx"
      }
    },
    {
      "cell_type": "markdown",
      "source": [
        "# (1) Generating Random Data with numpy\n",
        "When trying to write an algorithm, we want to make sure we know what the outcome will be. We'll generate data that has obvious clusters so that we can check that our clustering algorithm works properly."
      ],
      "metadata": {
        "id": "n9SBztBGDmFK"
      }
    },
    {
      "cell_type": "markdown",
      "source": [
        "The `numpy` library has a `random` package similar to the `random` library we have used before. It is especially good for creating arrays of random values based on particular data distributions.\n",
        "\n",
        "**numpy** Functions that Generate Random Numbers:\n",
        "* [np.random.randint](https://numpy.org/doc/stable/reference/random/generated/numpy.random.randint.html#numpy.random.randint) - generates a random int across a range\n",
        "* [np.random.uniform](https://numpy.org/doc/stable/reference/random/generated/numpy.random.uniform.html) - generates a random float across a range\n",
        "* [np.random.normal](https://numpy.org/doc/stable/reference/random/generated/numpy.random.normal.html#numpy.random.normal) - generates a random float across a normal distribution\n",
        "* [np.random.choice](https://numpy.org/doc/stable/reference/random/generated/numpy.random.choice.html#numpy-random-choice) - chooses a random number from an array\n",
        "\n",
        "And many more!\n"
      ],
      "metadata": {
        "id": "rSxWFwEksfVB"
      }
    },
    {
      "cell_type": "code",
      "source": [
        "# Import numpy\n",
        "# np is a common nickname to save typing time\n",
        "import numpy as np"
      ],
      "metadata": {
        "id": "HKeg9bvOWFat"
      },
      "execution_count": null,
      "outputs": []
    },
    {
      "cell_type": "code",
      "source": [
        "# Generate 1 random int from 0 to 100\n",
        "# Like most programming syntax, this excludes 100\n",
        "np.random.randint(100)"
      ],
      "metadata": {
        "id": "K9mxuaEKdD8s",
        "colab": {
          "base_uri": "https://localhost:8080/"
        },
        "outputId": "853f7231-95c3-4934-b117-de5f620b7459"
      },
      "execution_count": null,
      "outputs": [
        {
          "output_type": "execute_result",
          "data": {
            "text/plain": [
              "76"
            ]
          },
          "metadata": {},
          "execution_count": 14
        }
      ]
    },
    {
      "cell_type": "code",
      "source": [
        "# Generate an array of 10 random ints from 0 to 100\n",
        "# The line 'r1' acts as an implied print command, like you might use\n",
        "# in an interactive terminal. A block in an ipynb will display the last\n",
        "# such implied command it encounters, so if you want multiple items to print,\n",
        "# use an explicit print statement.\n",
        "r1 = np.random.randint(100, size = 10)\n",
        "r1"
      ],
      "metadata": {
        "id": "Mtrz_WGBdFo0",
        "colab": {
          "base_uri": "https://localhost:8080/"
        },
        "outputId": "2af9e5f4-3ad0-4a4b-ba34-d2db20ba3e73"
      },
      "execution_count": null,
      "outputs": [
        {
          "output_type": "execute_result",
          "data": {
            "text/plain": [
              "array([93, 39,  9, 41, 62, 88, 75, 85, 87, 94])"
            ]
          },
          "metadata": {},
          "execution_count": 15
        }
      ]
    },
    {
      "cell_type": "code",
      "source": [
        "# Generate an array of 25 random floats from a uniform distribution\n",
        "# A uniform distribution means that all outcomes between the low and high values\n",
        "# are equally likely. For example, the outcome of rolling a die has a uniform\n",
        "# distribution, because you're equally likely to get a 1, 2, 3, 4, 5, and 6.\n",
        "u1 = np.random.uniform(0,100,size=25)\n",
        "u1"
      ],
      "metadata": {
        "id": "mr2CXaWadH88",
        "colab": {
          "base_uri": "https://localhost:8080/"
        },
        "outputId": "06189a03-3afe-4cc4-8484-30e1854252b8"
      },
      "execution_count": null,
      "outputs": [
        {
          "output_type": "execute_result",
          "data": {
            "text/plain": [
              "array([21.34724476, 54.74816574, 18.34261122,  9.489805  , 39.20439207,\n",
              "       22.05584806,  2.50483704, 40.47710193,  2.5941317 , 55.09711538,\n",
              "       39.22792444, 93.81237626, 16.32788517, 25.4774664 , 27.02660264,\n",
              "       37.92217469,  5.74541108, 81.55158194, 88.52729046, 53.84559727,\n",
              "       31.0675619 , 53.70689423, 81.52525466, 69.73962253, 32.53858726])"
            ]
          },
          "metadata": {},
          "execution_count": 16
        }
      ]
    },
    {
      "cell_type": "code",
      "source": [
        "# Generate an array of random floats from a normal dist\n",
        "# Normal distributions are a bell curve. We can specify\n",
        "# the \"loc\", or center, and the \"scale,\" or standard deviation.\n",
        "\n",
        "# located with a center at 4, scale of 1.5 and size of 25\n",
        "n1 = np.random.normal(loc=4, scale=1.5, size=25)\n",
        "n1"
      ],
      "metadata": {
        "id": "CvYXE-8-dKTl",
        "colab": {
          "base_uri": "https://localhost:8080/"
        },
        "outputId": "5791ba35-cb0d-4947-839a-325f23e298e2"
      },
      "execution_count": null,
      "outputs": [
        {
          "output_type": "execute_result",
          "data": {
            "text/plain": [
              "array([3.88536427, 3.70758743, 6.56840873, 5.1649193 , 1.41632838,\n",
              "       4.72127819, 6.07535844, 4.22198678, 2.82462612, 5.28059795,\n",
              "       4.53796895, 2.64594236, 3.77717796, 4.35914063, 5.82920638,\n",
              "       3.85299811, 3.5335837 , 2.31305368, 1.57953731, 2.71467034,\n",
              "       3.88795476, 4.52087301, 3.40996824, 3.47973219, 2.76896851])"
            ]
          },
          "metadata": {},
          "execution_count": 17
        }
      ]
    },
    {
      "cell_type": "markdown",
      "source": [
        "# (2) Plotting Data with matplotlib\n",
        "\n",
        "**Matplotlib** is a very versatile plotting library for python (based on MATLAB). You've already used it in the ray tracing lesson to build the image you rendered. Here we will use it for data visualization, so that we can see the clustering in the data. We will be using the pyplot package in the matplotlib library."
      ],
      "metadata": {
        "id": "oS8AGclmD5P7"
      }
    },
    {
      "cell_type": "markdown",
      "source": [
        "Useful **matplotlib.pyplot** functions:\n",
        "* [plt.hist](https://matplotlib.org/stable/api/_as_gen/matplotlib.pyplot.hist.html) - plots a histogram\n",
        "* [plt.scatter](https://matplotlib.org/stable/api/_as_gen/matplotlib.pyplot.scatter.html#matplotlib.pyplot.scatter) - plots a scatterplot\n",
        "* [plt.show](https://matplotlib.org/stable/api/_as_gen/matplotlib.pyplot.show.html) - used to show a plot after using multiple plot commands"
      ],
      "metadata": {
        "id": "IWqM3Sn3xrps"
      }
    },
    {
      "cell_type": "code",
      "source": [
        "#import matplotlib\n",
        "# plt is a common nickname for matplotlib.pyplot to save typing time\n",
        "import matplotlib.pyplot as plt"
      ],
      "metadata": {
        "id": "xVLfN53-WepQ"
      },
      "execution_count": null,
      "outputs": []
    },
    {
      "cell_type": "code",
      "source": [
        "#Create a graph that shows frequency of points (aka histogram)\n",
        "plt.hist(n1)"
      ],
      "metadata": {
        "colab": {
          "base_uri": "https://localhost:8080/",
          "height": 517
        },
        "id": "wwoO5KcOx3DL",
        "outputId": "4b09b9a1-5d34-4b56-806a-c8a363d64ac2"
      },
      "execution_count": null,
      "outputs": [
        {
          "output_type": "execute_result",
          "data": {
            "text/plain": [
              "(array([2., 1., 4., 1., 7., 2., 3., 2., 1., 2.]),\n",
              " array([1.41632838, 1.93153641, 2.44674445, 2.96195248, 3.47716052,\n",
              "        3.99236855, 4.50757659, 5.02278462, 5.53799266, 6.05320069,\n",
              "        6.56840873]),\n",
              " <BarContainer object of 10 artists>)"
            ]
          },
          "metadata": {},
          "execution_count": 19
        },
        {
          "output_type": "display_data",
          "data": {
            "text/plain": [
              "<Figure size 640x480 with 1 Axes>"
            ],
            "image/png": "[encoded data removed]"
          },
          "metadata": {}
        }
      ]
    },
    {
      "cell_type": "code",
      "source": [
        "# Create a scatter plot \n",
        "# First: using two of our previous data sets\n",
        "# Then: since our data is 1D, make ydata an array of zeros\n",
        "# np.zeros(n) makes a numpy array of length n containing\n",
        "# the float value 0.\n",
        "\n",
        "#V1: \n",
        "xdata = u1 # our uniform data\n",
        "# ydata = n1 # our normal data\n",
        "# plt.scatter(xdata, ydata)\n",
        "\n",
        "#V2:\n",
        "# make an array of zeros same length as xdata.\n",
        "ydata = np.zeros(len(xdata)) # Notice the spelling - no zeroes!\n",
        "plt.scatter(xdata, ydata)"
      ],
      "metadata": {
        "id": "Jz3INvkJguA5",
        "colab": {
          "base_uri": "https://localhost:8080/",
          "height": 447
        },
        "outputId": "bc80caaf-9241-4537-efe5-2389f4cf604e"
      },
      "execution_count": null,
      "outputs": [
        {
          "output_type": "execute_result",
          "data": {
            "text/plain": [
              "<matplotlib.collections.PathCollection at 0x7f19d846aad0>"
            ]
          },
          "metadata": {},
          "execution_count": 20
        },
        {
          "output_type": "display_data",
          "data": {
            "text/plain": [
              "<Figure size 640x480 with 1 Axes>"
            ],
            "image/png": "[encoded data removed]"
          },
          "metadata": {}
        }
      ]
    },
    {
      "cell_type": "markdown",
      "source": [
        "# (3) Getting Data\n",
        "Most data science is done by importing data from a .csv (Comma Separated Value) file. Because our focus today is clustering (not data science in general), we will provide some simpler options as well.\n",
        "1. Generate random data to meet our desired criteria\n",
        "2. Provide data as a numpy array variable from a list\n",
        "3. Import data from a .csv file\n",
        "\n",
        "For our class today, we're going to use option 1. Option 2 will be used in some homework options; information about it is commented out in the code after \"Option 3B.\" Option 3 will be used for other homework options; information about it is commented out in the code after \"Option 3C.\""
      ],
      "metadata": {
        "id": "iB3OC9pzGhql"
      }
    },
    {
      "cell_type": "markdown",
      "source": [
        "## Option 3A: Getting Data from Random Numbers\n",
        "\n",
        "In order to make sure our algorithm works, we need to use data that will cluster predictably. We already generated `n1`, which includes 25 random floating-point numbers centered at 5; we'll create more arrays at other values the same way to make sure that we will have distinct clusters. Then we'll combine the arrays into a single dataset."
      ],
      "metadata": {
        "id": "eVW9ZOivXHiL"
      }
    },
    {
      "cell_type": "markdown",
      "source": [
        "Useful **numpy** functions:\n",
        "\n",
        "* [np.concatenate](https://numpy.org/doc/stable/reference/generated/numpy.concatenate.html#numpy-concatenate) - combines multiple arrays into single array\n"
      ],
      "metadata": {
        "id": "1A37tj3o1V4b"
      }
    },
    {
      "cell_type": "code",
      "source": [
        "# Generate a second set of random numbers from a normal distribution\n",
        "# with a center at 10, scale of 1.5 and size of 25\n",
        "n2 = np.random.normal(loc=10, scale=1.5, size=25)\n",
        "n2"
      ],
      "metadata": {
        "id": "GuSVkrpFYa-E",
        "colab": {
          "base_uri": "https://localhost:8080/"
        },
        "outputId": "a28baf8a-e77f-4e79-8c7e-5fad0d9295dc"
      },
      "execution_count": null,
      "outputs": [
        {
          "output_type": "execute_result",
          "data": {
            "text/plain": [
              "array([ 8.43776095,  8.88853636,  8.46237748, 10.86304593, 10.4241155 ,\n",
              "       10.52479644,  8.65415952,  7.03135777, 11.88206196, 10.03359847,\n",
              "        9.81043356,  7.64577461, 10.18183188, 10.17366164,  5.73823529,\n",
              "        6.50127863,  9.79362495,  9.9360788 ,  9.59635746,  9.00859502,\n",
              "        9.19472417, 11.52926777,  8.75130256, 11.62474116,  9.99339584])"
            ]
          },
          "metadata": {},
          "execution_count": 21
        }
      ]
    },
    {
      "cell_type": "code",
      "source": [
        "# Generate a third set of random numbers from a normal distribution\n",
        "# with a center at 16, scale of 1.5 and size of 25\n",
        "n3 = np.random.normal(loc=16, scale=1.5, size=25)\n",
        "n3"
      ],
      "metadata": {
        "colab": {
          "base_uri": "https://localhost:8080/"
        },
        "id": "i5HmPBXKiPvh",
        "outputId": "154a458c-5396-4b8a-e68b-ae1849c2dd79"
      },
      "execution_count": null,
      "outputs": [
        {
          "output_type": "execute_result",
          "data": {
            "text/plain": [
              "array([15.59554082, 15.2069298 , 18.14649599, 16.19637143, 14.80739685,\n",
              "       13.94284208, 15.55043022, 17.44714062, 15.28254705, 18.09287817,\n",
              "       15.41448817, 17.01016618, 15.81466741, 17.22972417, 13.96582705,\n",
              "       14.55159746, 16.87370442, 14.81893847, 15.8916281 , 15.49194692,\n",
              "       16.49996865, 14.68024729, 15.77084105, 15.86454754, 14.46139517])"
            ]
          },
          "metadata": {},
          "execution_count": 22
        }
      ]
    },
    {
      "cell_type": "code",
      "source": [
        "# Plot all 3 sets of random numbers\n",
        "# Note: Use the array of zeros we generated, ydata, for the y-axis plotting\n",
        "plt.scatter(n1, ydata)\n",
        "plt.scatter(n2, ydata)\n",
        "plt.scatter(n3, ydata)\n",
        "\n",
        "# Notice that the different data sets all plotted on the same scatter plot, \n",
        "# but in different colors."
      ],
      "metadata": {
        "colab": {
          "base_uri": "https://localhost:8080/",
          "height": 447
        },
        "id": "eoNqW0lMiQDH",
        "outputId": "a47d5b4f-971f-43e5-923f-f69472402051"
      },
      "execution_count": null,
      "outputs": [
        {
          "output_type": "execute_result",
          "data": {
            "text/plain": [
              "<matplotlib.collections.PathCollection at 0x7f19b8fa9720>"
            ]
          },
          "metadata": {},
          "execution_count": 23
        },
        {
          "output_type": "display_data",
          "data": {
            "text/plain": [
              "<Figure size 640x480 with 1 Axes>"
            ],
            "image/png": "[encoded data removed]"
          },
          "metadata": {}
        }
      ]
    },
    {
      "cell_type": "code",
      "source": [
        "# [OPTIONAL] Create a histogram to plot the 3 sets of numbers\n",
        "# Use the bins parameter to determine how \"skinny\" the bars should be\n",
        "plt.hist(n1, bins=10)\n",
        "plt.hist(n2, bins=10)\n",
        "plt.hist(n3, bins=10)\n",
        "# plt.show()"
      ],
      "metadata": {
        "colab": {
          "base_uri": "https://localhost:8080/",
          "height": 517
        },
        "outputId": "062ac2a8-081f-48fe-fab0-418322930888",
        "id": "vpuL6lHUKQMo"
      },
      "execution_count": null,
      "outputs": [
        {
          "output_type": "execute_result",
          "data": {
            "text/plain": [
              "(array([2., 3., 2., 6., 4., 1., 2., 2., 1., 2.]),\n",
              " array([13.94284208, 14.36320747, 14.78357286, 15.20393825, 15.62430364,\n",
              "        16.04466903, 16.46503442, 16.88539982, 17.30576521, 17.7261306 ,\n",
              "        18.14649599]),\n",
              " <BarContainer object of 10 artists>)"
            ]
          },
          "metadata": {},
          "execution_count": 24
        },
        {
          "output_type": "display_data",
          "data": {
            "text/plain": [
              "<Figure size 640x480 with 1 Axes>"
            ],
            "image/png": "[encoded data removed]"
          },
          "metadata": {}
        }
      ]
    },
    {
      "cell_type": "code",
      "source": [
        "# Concatenate the 3 sets of random numbers into 1 larger data array\n",
        "# Note: the concatenate() function takes in an array of arrays, indicated by []\n",
        "data = np.concatenate([n1, n2, n3])\n",
        "data"
      ],
      "metadata": {
        "colab": {
          "base_uri": "https://localhost:8080/"
        },
        "id": "-gFnXOB-kU7z",
        "outputId": "de81a2ae-cfff-4206-df36-0a78ca9a2bc9"
      },
      "execution_count": null,
      "outputs": [
        {
          "output_type": "execute_result",
          "data": {
            "text/plain": [
              "array([ 3.88536427,  3.70758743,  6.56840873,  5.1649193 ,  1.41632838,\n",
              "        4.72127819,  6.07535844,  4.22198678,  2.82462612,  5.28059795,\n",
              "        4.53796895,  2.64594236,  3.77717796,  4.35914063,  5.82920638,\n",
              "        3.85299811,  3.5335837 ,  2.31305368,  1.57953731,  2.71467034,\n",
              "        3.88795476,  4.52087301,  3.40996824,  3.47973219,  2.76896851,\n",
              "        8.43776095,  8.88853636,  8.46237748, 10.86304593, 10.4241155 ,\n",
              "       10.52479644,  8.65415952,  7.03135777, 11.88206196, 10.03359847,\n",
              "        9.81043356,  7.64577461, 10.18183188, 10.17366164,  5.73823529,\n",
              "        6.50127863,  9.79362495,  9.9360788 ,  9.59635746,  9.00859502,\n",
              "        9.19472417, 11.52926777,  8.75130256, 11.62474116,  9.99339584,\n",
              "       15.59554082, 15.2069298 , 18.14649599, 16.19637143, 14.80739685,\n",
              "       13.94284208, 15.55043022, 17.44714062, 15.28254705, 18.09287817,\n",
              "       15.41448817, 17.01016618, 15.81466741, 17.22972417, 13.96582705,\n",
              "       14.55159746, 16.87370442, 14.81893847, 15.8916281 , 15.49194692,\n",
              "       16.49996865, 14.68024729, 15.77084105, 15.86454754, 14.46139517])"
            ]
          },
          "metadata": {},
          "execution_count": 25
        }
      ]
    },
    {
      "cell_type": "code",
      "source": [
        "# Create a scatterplot the new set of data\n",
        "# Note: Update the ydata array of zeros to match the size of the bigger data array\n",
        "ydata = np.zeros(75)\n",
        "plt.scatter(data, ydata)"
      ],
      "metadata": {
        "colab": {
          "base_uri": "https://localhost:8080/",
          "height": 447
        },
        "id": "6CBuk9b5kXfZ",
        "outputId": "a2c8ff0d-72fa-4926-c6d8-11e0475352b0"
      },
      "execution_count": null,
      "outputs": [
        {
          "output_type": "execute_result",
          "data": {
            "text/plain": [
              "<matplotlib.collections.PathCollection at 0x7f19b8ef0d90>"
            ]
          },
          "metadata": {},
          "execution_count": 26
        },
        {
          "output_type": "display_data",
          "data": {
            "text/plain": [
              "<Figure size 640x480 with 1 Axes>"
            ],
            "image/png": "[encoded data removed]"
          },
          "metadata": {}
        }
      ]
    },
    {
      "cell_type": "code",
      "source": [
        "# [OPTIONAL] Create a histogram to show the data\n",
        "# Use the bins parameter to determine how \"skinny\" the bars should be\n",
        "plt.hist(data, bins=20)\n"
      ],
      "metadata": {
        "colab": {
          "base_uri": "https://localhost:8080/",
          "height": 569
        },
        "id": "OXIkvL1poTWJ",
        "outputId": "225c32a4-ad4b-442d-9c66-3aa0f78b1486"
      },
      "execution_count": null,
      "outputs": [
        {
          "output_type": "execute_result",
          "data": {
            "text/plain": [
              "(array([2., 5., 8., 5., 2., 3., 3., 1., 5., 3., 9., 1., 3., 0., 1., 4., 8.,\n",
              "        5., 4., 3.]),\n",
              " array([ 1.41632838,  2.25283676,  3.08934514,  3.92585352,  4.7623619 ,\n",
              "         5.59887028,  6.43537866,  7.27188704,  8.10839542,  8.9449038 ,\n",
              "         9.78141218, 10.61792056, 11.45442894, 12.29093733, 13.12744571,\n",
              "        13.96395409, 14.80046247, 15.63697085, 16.47347923, 17.30998761,\n",
              "        18.14649599]),\n",
              " <BarContainer object of 20 artists>)"
            ]
          },
          "metadata": {},
          "execution_count": 27
        },
        {
          "output_type": "display_data",
          "data": {
            "text/plain": [
              "<Figure size 640x480 with 1 Axes>"
            ],
            "image/png": "[encoded data removed]"
          },
          "metadata": {}
        }
      ]
    },
    {
      "cell_type": "markdown",
      "source": [
        "## Option 3B: Getting Data from a List\n",
        "Our class completed a survey about:\n",
        "* horror movie preferences\n",
        "* favorite number\n",
        "* preferred number of pets\n",
        "* how much to pay for shoes\n",
        "* height in inches\n",
        "\n",
        "This data was copied into a **numpy** array that can be checked for clustering."
      ],
      "metadata": {
        "id": "A280Xv2yJ-z1"
      }
    },
    {
      "cell_type": "code",
      "source": [
        "# Access arrays of data from our class survey\n",
        "heights=np.array([65,72,65,60.5,70,77,60,65,67,67,65,60,73.5,60.25,63,68,69,62.5,63,63,70,69,57,68,64,70,67,72,66,72,68,67,63])\n",
        "shoes=np.array([180,65,150,200,200,150,200,400,100,200,500,200,350,300,500,80,250,80,200,240,175,350,200,150,150,60,200,200,100,300,75,140,200])\n",
        "horror=np.array([2.1,1.1,2.5,2.6,1.2,2.2,1.2,5.8,7.1,5.1,7.2,1.6,4.7,3.3,1.1,4.7,5.0,5.2,4.3,3.3,2.8,4.1,7.8,1.1,1.8,1.6,5.4,3.2,1.0,7.8,5.6,7.0,2.9])\n",
        "fave_nums=np.array([7,7,2,8,7,9,4,7,7,3,10,1,3,9,2,4,7,6,10,7,7,7,10,7,2,8,4,8,9,10,7,1,5])\n",
        "pets=np.array([4,0,2,3,0,2,1,2,3,2,0,1,1,3,0,4,0,0,1,3,1,4,1,0,2,2,0,0,2,5,2,1,0])\n",
        "heights"
      ],
      "metadata": {
        "id": "4dWZWUCXlCOU",
        "colab": {
          "base_uri": "https://localhost:8080/"
        },
        "outputId": "82bd6037-5c2e-4585-bcbb-af0d42afe841"
      },
      "execution_count": null,
      "outputs": [
        {
          "output_type": "execute_result",
          "data": {
            "text/plain": [
              "array([65.  , 72.  , 65.  , 60.5 , 70.  , 77.  , 60.  , 65.  , 67.  ,\n",
              "       67.  , 65.  , 60.  , 73.5 , 60.25, 63.  , 68.  , 69.  , 62.5 ,\n",
              "       63.  , 63.  , 70.  , 69.  , 57.  , 68.  , 64.  , 70.  , 67.  ,\n",
              "       72.  , 66.  , 72.  , 68.  , 67.  , 63.  ])"
            ]
          },
          "metadata": {},
          "execution_count": 28
        }
      ]
    },
    {
      "cell_type": "code",
      "source": [
        "# Assign arrays to be used for clustering (as data)\n",
        "# data = heights\n",
        "# data = shoes\n",
        "# data = horror\n",
        "# data=fave_nums       #not good for clustering with 1D data\n",
        "# data=pets            #not good for clustering with 1D data\n",
        "data"
      ],
      "metadata": {
        "colab": {
          "base_uri": "https://localhost:8080/"
        },
        "id": "RSjr_9Yz-wc1",
        "outputId": "25d8bec7-3e0a-4412-aa4c-dcc95100d539"
      },
      "execution_count": null,
      "outputs": [
        {
          "output_type": "execute_result",
          "data": {
            "text/plain": [
              "array([ 3.88536427,  3.70758743,  6.56840873,  5.1649193 ,  1.41632838,\n",
              "        4.72127819,  6.07535844,  4.22198678,  2.82462612,  5.28059795,\n",
              "        4.53796895,  2.64594236,  3.77717796,  4.35914063,  5.82920638,\n",
              "        3.85299811,  3.5335837 ,  2.31305368,  1.57953731,  2.71467034,\n",
              "        3.88795476,  4.52087301,  3.40996824,  3.47973219,  2.76896851,\n",
              "        8.43776095,  8.88853636,  8.46237748, 10.86304593, 10.4241155 ,\n",
              "       10.52479644,  8.65415952,  7.03135777, 11.88206196, 10.03359847,\n",
              "        9.81043356,  7.64577461, 10.18183188, 10.17366164,  5.73823529,\n",
              "        6.50127863,  9.79362495,  9.9360788 ,  9.59635746,  9.00859502,\n",
              "        9.19472417, 11.52926777,  8.75130256, 11.62474116,  9.99339584,\n",
              "       15.59554082, 15.2069298 , 18.14649599, 16.19637143, 14.80739685,\n",
              "       13.94284208, 15.55043022, 17.44714062, 15.28254705, 18.09287817,\n",
              "       15.41448817, 17.01016618, 15.81466741, 17.22972417, 13.96582705,\n",
              "       14.55159746, 16.87370442, 14.81893847, 15.8916281 , 15.49194692,\n",
              "       16.49996865, 14.68024729, 15.77084105, 15.86454754, 14.46139517])"
            ]
          },
          "metadata": {},
          "execution_count": 29
        }
      ]
    },
    {
      "cell_type": "code",
      "source": [
        "# Setup the ydata value\n",
        "# Note: if 1D data, make an array of zeros the same length as the xdata\n",
        "#ydata = heights\n",
        "ydata = np.zeros(len(data))\n",
        "ydata"
      ],
      "metadata": {
        "colab": {
          "base_uri": "https://localhost:8080/"
        },
        "id": "kB1M12Omnsua",
        "outputId": "416f5393-2230-45d7-efdc-117fb1aef3c1"
      },
      "execution_count": null,
      "outputs": [
        {
          "output_type": "execute_result",
          "data": {
            "text/plain": [
              "array([0., 0., 0., 0., 0., 0., 0., 0., 0., 0., 0., 0., 0., 0., 0., 0., 0.,\n",
              "       0., 0., 0., 0., 0., 0., 0., 0., 0., 0., 0., 0., 0., 0., 0., 0., 0.,\n",
              "       0., 0., 0., 0., 0., 0., 0., 0., 0., 0., 0., 0., 0., 0., 0., 0., 0.,\n",
              "       0., 0., 0., 0., 0., 0., 0., 0., 0., 0., 0., 0., 0., 0., 0., 0., 0.,\n",
              "       0., 0., 0., 0., 0., 0., 0.])"
            ]
          },
          "metadata": {},
          "execution_count": 30
        }
      ]
    },
    {
      "cell_type": "code",
      "source": [
        "# Plot the new set of data\n",
        "plt.scatter(data, ydata)"
      ],
      "metadata": {
        "colab": {
          "base_uri": "https://localhost:8080/",
          "height": 447
        },
        "outputId": "7baf9fdd-044d-4ac1-fdbc-ad672204e4f9",
        "id": "4WryRpVjWGMr"
      },
      "execution_count": null,
      "outputs": [
        {
          "output_type": "execute_result",
          "data": {
            "text/plain": [
              "<matplotlib.collections.PathCollection at 0x7f19b8ded6f0>"
            ]
          },
          "metadata": {},
          "execution_count": 31
        },
        {
          "output_type": "display_data",
          "data": {
            "text/plain": [
              "<Figure size 640x480 with 1 Axes>"
            ],
            "image/png": "[encoded data removed]"
          },
          "metadata": {}
        }
      ]
    },
    {
      "cell_type": "markdown",
      "source": [
        "## Option 3C: Getting Data from a .CSV file\n",
        "**pandas** is a python module widely used for handling large data sets like those you might get from a .csv file.  A pandas \"Dataframe\" is the coding structure used to maniuplate the data."
      ],
      "metadata": {
        "id": "sgOutyfgtj6a"
      }
    },
    {
      "cell_type": "markdown",
      "source": [
        "Useful **pandas** functions:\n",
        "\n",
        "* [pd.read_csv](https://pandas.pydata.org/docs/reference/api/pandas.read_csv.html) - import a csv file's data\n",
        "* [pd.to_numpy](https://pandas.pydata.org/docs/reference/api/pandas.DataFrame.to_numpy.html) - convert a pandas dataframe (or column)\n",
        "\n",
        "Notes:\n",
        "1. *Uncomment code segments to run*\n",
        "2. *Make sure to import a .csv file into the project, by placing it in the 'content' folder of the Colab*\n",
        "3. *You can find many real-world .csv datasets at [Kaggle.com](https://www.kaggle.com/datasets?fileType=csv)*"
      ],
      "metadata": {
        "id": "YV2yduWB8wA1"
      }
    },
    {
      "cell_type": "code",
      "source": [
        "# # Import the pandas module\n",
        "# import pandas as pd"
      ],
      "metadata": {
        "id": "volliTWb1asB"
      },
      "execution_count": null,
      "outputs": []
    },
    {
      "cell_type": "code",
      "source": [
        "# # Import data from a csv file as a \"dataframe\"\n",
        "# # Note: Make sure you have a .csv file in your project folder (in Colab, check the \"content\" folder)\n",
        "# # df = pd.read_csv('sample_data/california_housing_test.csv')\n",
        "# df = pd.read_csv('sample_data/california_housing_test.csv')\n",
        "# df"
      ],
      "metadata": {
        "id": "-qMJlcul1fhY"
      },
      "execution_count": null,
      "outputs": []
    },
    {
      "cell_type": "code",
      "source": [
        "# Examine one particular column of the data frame \n",
        "#df.population\n",
        "#df.total_rooms\n",
        "#df.median_income\n",
        "# df.median_house_value"
      ],
      "metadata": {
        "id": "_8IkeAr5nZdA"
      },
      "execution_count": null,
      "outputs": []
    },
    {
      "cell_type": "code",
      "source": [
        "# # Convert one of the columns from the dataframe to a numpy array\n",
        "# data = df.median_house_value.to_numpy()\n",
        "# data"
      ],
      "metadata": {
        "id": "uTysUlIRIymh"
      },
      "execution_count": null,
      "outputs": []
    },
    {
      "cell_type": "code",
      "source": [
        "# # Generate an array to use for the y-values (either zeros or actual data)\n",
        "# ydata = [0]*len(data)\n",
        "# #ydata = df.population.to_numpy()  #option for 2D clustering"
      ],
      "metadata": {
        "id": "-f31AlayKxp1"
      },
      "execution_count": null,
      "outputs": []
    },
    {
      "cell_type": "code",
      "source": [
        "# # Plot the new set of data\n",
        "# # Note: With a very large data set, 1D data will likely look like a straight line\n",
        "# # but clusters may be much more visible with 2D data\n",
        "# plt.scatter(data, ydata)"
      ],
      "metadata": {
        "id": "2v0FJ12UWhJh"
      },
      "execution_count": null,
      "outputs": []
    },
    {
      "cell_type": "markdown",
      "source": [
        "# (4) Setting up the k-means Clustering Algorithm\n",
        "Now that we have data to work with, we should begin setting up the structure for our k-means clustering algorithm.\n",
        "\n",
        "\n",
        "\n",
        "Important design decisions include: \n",
        "* `k` - How many clusters do we want to sort the data into?\n",
        "* `centroids` - What is the value at the center of all the data points of a particular cluster?  How will we decide on the initial centroid values of those clusters?\n",
        "* `labels` - How will we determine which cluster each data point will be assigned to?\n",
        "\n",
        "Ultimately, our algorithm needs the following steps:\n",
        "1. Choose initial centroids.\n",
        "2. Find the distance from each data point to each centroid.\n",
        "3. Assign each data point to its closest centroid.\n",
        "4. Update each centroid to be the mean of the values assigned to it\n"
      ],
      "metadata": {
        "id": "yi8jvu09W7DC"
      }
    },
    {
      "cell_type": "markdown",
      "source": [
        "Useful numpy functions:\n",
        "* [np.random.choice](https://numpy.org/doc/stable/reference/random/generated/numpy.random.choice.html#numpy-random-choice) - chooses a random number from an array\n",
        "* [np.random.uniform](https://numpy.org/doc/stable/reference/random/generated/numpy.random.uniform.html) - generates a random float across a range\n",
        "* [np.min](https://numpy.org/doc/stable/reference/generated/numpy.ndarray.min.html) - selects the minimum value from a numpy array\n",
        "* [np.max](https://numpy.org/doc/stable/reference/generated/numpy.ndarray.max.html) - selects the maximum value from a numpy array\n",
        "* [np.zeros](https://numpy.org/doc/stable/reference/generated/numpy.zeros.html#numpy.zeros) - generates an array of zeros"
      ],
      "metadata": {
        "id": "gG_YFCdfXuV1"
      }
    },
    {
      "cell_type": "code",
      "source": [
        "# Define the number of clusters (k) you expect in the data\n",
        "k = 3"
      ],
      "metadata": {
        "id": "edwHSiBhj6Wc"
      },
      "execution_count": null,
      "outputs": []
    },
    {
      "cell_type": "code",
      "source": [
        "# Choose initial centroids\n",
        "# Choose 3 random points to be your starting values for the centroids\n",
        "# Note: Make sure no 2 centroids are the same value\n",
        "# choice works for larger data sets with little to no repetition.\n",
        "# uniform may be better for smaller, more repetitive data sets like the survey results.\n",
        "centroids = np.random.choice(data, size=k, replace=False)\n",
        "#centroids = np.random.uniform(np.min(data), np.max(data), size=k)\n",
        "centroids"
      ],
      "metadata": {
        "colab": {
          "base_uri": "https://localhost:8080/"
        },
        "id": "Qrzv1qtyj8Jk",
        "outputId": "db0e9e86-ac9a-4b30-9ccc-5b1a492976cb"
      },
      "execution_count": null,
      "outputs": [
        {
          "output_type": "execute_result",
          "data": {
            "text/plain": [
              "array([15.2069298 ,  9.59635746, 18.09287817])"
            ]
          },
          "metadata": {},
          "execution_count": 39
        }
      ]
    },
    {
      "cell_type": "code",
      "source": [
        "# Create an array of zeros that will store the labels for which cluster each data point should belong to\n",
        "# (ie. Cluster label 0, Cluster label 1, and Cluster label 2, etc)\n",
        "# Note: We need these to be integers and not floats, so use the dtype=np.int8 parameter\n",
        "labels = np.zeros((len(data)), dtype = np.int8)\n",
        "labels"
      ],
      "metadata": {
        "colab": {
          "base_uri": "https://localhost:8080/"
        },
        "id": "Vj8SJl78kA4q",
        "outputId": "4a36ee84-e331-4a4e-bbae-23d2c7ef9085"
      },
      "execution_count": null,
      "outputs": [
        {
          "output_type": "execute_result",
          "data": {
            "text/plain": [
              "array([0, 0, 0, 0, 0, 0, 0, 0, 0, 0, 0, 0, 0, 0, 0, 0, 0, 0, 0, 0, 0, 0,\n",
              "       0, 0, 0, 0, 0, 0, 0, 0, 0, 0, 0, 0, 0, 0, 0, 0, 0, 0, 0, 0, 0, 0,\n",
              "       0, 0, 0, 0, 0, 0, 0, 0, 0, 0, 0, 0, 0, 0, 0, 0, 0, 0, 0, 0, 0, 0,\n",
              "       0, 0, 0, 0, 0, 0, 0, 0, 0], dtype=int8)"
            ]
          },
          "metadata": {},
          "execution_count": 40
        }
      ]
    },
    {
      "cell_type": "markdown",
      "source": [
        "# (5) Updating clusters (centroids & labels)\n",
        "To continue the k-means clustering algorithm, we now need to assign every data point to one of our clusters, depending on which cluster's centroid is closest."
      ],
      "metadata": {
        "id": "IOgH04ROawXo"
      }
    },
    {
      "cell_type": "markdown",
      "source": [
        "Useful numpy functions:\n",
        "* [np.zeros](https://numpy.org/doc/stable/reference/generated/numpy.zeros.html#numpy.zeros) - generates an array of zeros\n",
        "* [np.argmin](https://numpy.org/doc/stable/reference/generated/numpy.argmin.html) - returns the index of the minimum value of an array\n",
        "* [np.mean](https://numpy.org/doc/stable/reference/generated/numpy.mean.html#numpy.mean) - finds the mean of an array"
      ],
      "metadata": {
        "id": "xM-j_elFZwTj"
      }
    },
    {
      "cell_type": "markdown",
      "source": [
        "## Option 5A: Updating Clusters Once\n",
        "Write segments of code that will create a first guess at the best way to cluster the data points."
      ],
      "metadata": {
        "id": "-6gPiYIomJF4"
      }
    },
    {
      "cell_type": "code",
      "source": [
        "# For every data-point, calculate the distance to each of the k centroids\n",
        "# Store the distances in an array (data's size-long) of arrays (k-long) \n",
        "# create an array of zeros with a row for every data point and a column for every centroid\n",
        "distances = np.zeros((len(data), k))\n",
        "for i in range(k):\n",
        "  distances[:,i] = abs(data - centroids[i])\n",
        "distances"
      ],
      "metadata": {
        "colab": {
          "base_uri": "https://localhost:8080/"
        },
        "id": "iWiBXCOazUD_",
        "outputId": "fd1215f2-6241-4d3c-871e-eaf8f438757c"
      },
      "execution_count": null,
      "outputs": [
        {
          "output_type": "execute_result",
          "data": {
            "text/plain": [
              "array([[11.32156553,  5.71099319, 14.2075139 ],\n",
              "       [11.49934238,  5.88877003, 14.38529075],\n",
              "       [ 8.63852108,  3.02794873, 11.52446945],\n",
              "       [10.04201051,  4.43143816, 12.92795888],\n",
              "       [13.79060143,  8.18002908, 16.6765498 ],\n",
              "       [10.48565161,  4.87507927, 13.37159998],\n",
              "       [ 9.13157136,  3.52099902, 12.01751973],\n",
              "       [10.98494302,  5.37437068, 13.87089139],\n",
              "       [12.38230368,  6.77173134, 15.26825205],\n",
              "       [ 9.92633186,  4.31575951, 12.81228022],\n",
              "       [10.66896085,  5.05838851, 13.55490922],\n",
              "       [12.56098745,  6.9504151 , 15.44693582],\n",
              "       [11.42975185,  5.8191795 , 14.31570022],\n",
              "       [10.84778918,  5.23721683, 13.73373754],\n",
              "       [ 9.37772343,  3.76715108, 12.2636718 ],\n",
              "       [11.35393169,  5.74335935, 14.23988006],\n",
              "       [11.67334611,  6.06277376, 14.55929447],\n",
              "       [12.89387613,  7.28330378, 15.77982449],\n",
              "       [13.62739249,  8.01682015, 16.51334086],\n",
              "       [12.49225947,  6.88168712, 15.37820784],\n",
              "       [11.31897505,  5.7084027 , 14.20492341],\n",
              "       [10.6860568 ,  5.07548445, 13.57200517],\n",
              "       [11.79696157,  6.18638922, 14.68290994],\n",
              "       [11.72719761,  6.11662527, 14.61314598],\n",
              "       [12.43796129,  6.82738894, 15.32390966],\n",
              "       [ 6.76916885,  1.1585965 ,  9.65511722],\n",
              "       [ 6.31839344,  0.7078211 ,  9.20434181],\n",
              "       [ 6.74455232,  1.13397998,  9.63050069],\n",
              "       [ 4.34388387,  1.26668848,  7.22983224],\n",
              "       [ 4.7828143 ,  0.82775804,  7.66876267],\n",
              "       [ 4.68213337,  0.92843898,  7.56808174],\n",
              "       [ 6.55277028,  0.94219794,  9.43871865],\n",
              "       [ 8.17557203,  2.56499969, 11.0615204 ],\n",
              "       [ 3.32486784,  2.28570451,  6.21081621],\n",
              "       [ 5.17333134,  0.43724101,  8.05927971],\n",
              "       [ 5.39649625,  0.2140761 ,  8.28244461],\n",
              "       [ 7.5611552 ,  1.95058285, 10.44710356],\n",
              "       [ 5.02509793,  0.58547442,  7.9110463 ],\n",
              "       [ 5.03326817,  0.57730418,  7.91921653],\n",
              "       [ 9.46869452,  3.85812217, 12.35464288],\n",
              "       [ 8.70565117,  3.09507882, 11.59159954],\n",
              "       [ 5.41330486,  0.19726749,  8.29925322],\n",
              "       [ 5.270851  ,  0.33972134,  8.15679937],\n",
              "       [ 5.61057235,  0.        ,  8.49652071],\n",
              "       [ 6.19833479,  0.58776244,  9.08428315],\n",
              "       [ 6.01220563,  0.40163329,  8.898154  ],\n",
              "       [ 3.67766204,  1.93291031,  6.5636104 ],\n",
              "       [ 6.45562724,  0.84505489,  9.34157561],\n",
              "       [ 3.58218864,  2.0283837 ,  6.46813701],\n",
              "       [ 5.21353397,  0.39703838,  8.09948233],\n",
              "       [ 0.38861102,  5.99918336,  2.49733735],\n",
              "       [ 0.        ,  5.61057235,  2.88594837],\n",
              "       [ 2.93956619,  8.55013853,  0.05361782],\n",
              "       [ 0.98944163,  6.60001397,  1.89650674],\n",
              "       [ 0.39953295,  5.2110394 ,  3.28548132],\n",
              "       [ 1.26408773,  4.34648462,  4.1500361 ],\n",
              "       [ 0.34350042,  5.95407276,  2.54244795],\n",
              "       [ 2.24021081,  7.85078316,  0.64573756],\n",
              "       [ 0.07561725,  5.68618959,  2.81033112],\n",
              "       [ 2.88594837,  8.49652071,  0.        ],\n",
              "       [ 0.20755837,  5.81813072,  2.67839   ],\n",
              "       [ 1.80323637,  7.41380872,  1.08271199],\n",
              "       [ 0.60773761,  6.21830995,  2.27821076],\n",
              "       [ 2.02279437,  7.63336671,  0.863154  ],\n",
              "       [ 1.24110275,  4.3694696 ,  4.12705112],\n",
              "       [ 0.65533234,  4.95524   ,  3.54128071],\n",
              "       [ 1.66677462,  7.27734697,  1.21917375],\n",
              "       [ 0.38799134,  5.22258101,  3.27393971],\n",
              "       [ 0.6846983 ,  6.29527064,  2.20125007],\n",
              "       [ 0.28501712,  5.89558946,  2.60093125],\n",
              "       [ 1.29303884,  6.90361119,  1.59290953],\n",
              "       [ 0.52668252,  5.08388983,  3.41263089],\n",
              "       [ 0.56391124,  6.17448359,  2.32203712],\n",
              "       [ 0.65761774,  6.26819008,  2.22833063],\n",
              "       [ 0.74553464,  4.86503771,  3.631483  ]])"
            ]
          },
          "metadata": {},
          "execution_count": 41
        }
      ]
    },
    {
      "cell_type": "code",
      "source": [
        "# Assign each data-point to a cluster (whichever centroid is closest)\n",
        "for i in range(len(distances)):\n",
        "    labels[i] = (np.argmin(distances[i]))\n",
        "labels"
      ],
      "metadata": {
        "colab": {
          "base_uri": "https://localhost:8080/"
        },
        "id": "3yaQ8KqmzlRG",
        "outputId": "2ff65409-0e2e-44c4-c4f6-bbb8a3f43ad7"
      },
      "execution_count": null,
      "outputs": [
        {
          "output_type": "execute_result",
          "data": {
            "text/plain": [
              "array([1, 1, 1, 1, 1, 1, 1, 1, 1, 1, 1, 1, 1, 1, 1, 1, 1, 1, 1, 1, 1, 1,\n",
              "       1, 1, 1, 1, 1, 1, 1, 1, 1, 1, 1, 1, 1, 1, 1, 1, 1, 1, 1, 1, 1, 1,\n",
              "       1, 1, 1, 1, 1, 1, 0, 0, 2, 0, 0, 0, 0, 2, 0, 2, 0, 2, 0, 2, 0, 0,\n",
              "       2, 0, 0, 0, 0, 0, 0, 0, 0], dtype=int8)"
            ]
          },
          "metadata": {},
          "execution_count": 42
        }
      ]
    },
    {
      "cell_type": "code",
      "source": [
        "# Update the centroid values to better match the assigned data-points\n",
        "# Note: You can filter out a subset of the array with [labels == i]\n",
        "# labels == i produces a boolean, and indexing with a boolean will produce\n",
        "# only the values from data with the label in question.\n",
        "for i in range(k):\n",
        "    centroids[i] = np.mean(data[labels == i])\n",
        "centroids"
      ],
      "metadata": {
        "id": "mEo5S8zA6AKT",
        "colab": {
          "base_uri": "https://localhost:8080/"
        },
        "outputId": "a043087e-e09f-4ea7-bb03-b55f8faa0489"
      },
      "execution_count": null,
      "outputs": [
        {
          "output_type": "execute_result",
          "data": {
            "text/plain": [
              "array([15.25306061,  6.63516691, 17.46668493])"
            ]
          },
          "metadata": {},
          "execution_count": 43
        }
      ]
    },
    {
      "cell_type": "code",
      "source": [
        "# Generate ycentroids\n",
        "# We will want to show the centroids on the graph we make later, so we need\n",
        "# y-values.\n",
        "# Note: if 1D data, make an array of zeros the same length as the xcentroids\n",
        "ycentroids = np.zeros(len(centroids))\n",
        "ycentroids"
      ],
      "metadata": {
        "id": "hnUPy0LToTu7",
        "colab": {
          "base_uri": "https://localhost:8080/"
        },
        "outputId": "3f1953f7-4a1e-4043-db27-1b9479529d54"
      },
      "execution_count": null,
      "outputs": [
        {
          "output_type": "execute_result",
          "data": {
            "text/plain": [
              "array([0., 0., 0.])"
            ]
          },
          "metadata": {},
          "execution_count": 44
        }
      ]
    },
    {
      "cell_type": "markdown",
      "source": [
        "## Option 5B: Updating Clusters in a Loop (n Times)\n",
        "Write a code block that will repeat all of the code blocks from Section 5A a constant number of times, `n`."
      ],
      "metadata": {
        "id": "LQJE-7Gfa1Cg"
      }
    },
    {
      "cell_type": "code",
      "source": [
        "# Copy all of Updating Clusters code (5A) into a loop\n",
        "# Setup the loop to exit after n times\n",
        "\n",
        "n=100\n",
        "for x in range(n):\n",
        "  # For every data-point, calculate the distance to each of the k centroids\n",
        "  # Store the distances in an array (xdata's size-long) of arrays (k-long) \n",
        "  distances = np.zeros((len(data), k))\n",
        "  for i in range(k):\n",
        "    distances[:,i] = abs(data - centroids[i])\n",
        "\n",
        "  # Assign each data-point to a cluster (whichever centroid is closest)\n",
        "  # Note: argmin() finds the index , not value\n",
        "  for i in range(len(distances)):\n",
        "      labels[i] = (np.argmin(distances[i]))\n",
        "\n",
        "  # Update the centroid values to better match the assigned data-points\n",
        "  # Note: You can filter out a subset of the array with [labels == i]\n",
        "  for i in range(k):\n",
        "      centroids[i] = np.mean(data[labels == i])\n",
        "\n",
        "  # Generate ycentroids\n",
        "  # Note: if 1D data, make an array of zeros the same length as the xcentroids\n",
        "  ycentroids = np.zeros(len(centroids))\n",
        "\n",
        "  #print out the centroids each iteration of the loop\n",
        "  print(i,centroids)"
      ],
      "metadata": {
        "colab": {
          "base_uri": "https://localhost:8080/"
        },
        "id": "FH_qDi3Cmlih",
        "outputId": "22bb72f6-beef-48fa-e3bc-44d3bfe52997"
      },
      "execution_count": null,
      "outputs": [
        {
          "output_type": "stream",
          "name": "stdout",
          "text": [
            "2 [14.6830597   6.31323988 17.3285826 ]\n",
            "2 [14.25162385  6.11854294 17.1870562 ]\n",
            "2 [13.71674506  6.02068901 16.73651114]\n",
            "2 [12.29482998  5.50235256 16.36312276]\n",
            "2 [10.69327776  4.91729456 15.94346052]\n",
            "2 [ 9.89354607  4.27565097 15.78433044]\n",
            "2 [ 9.79137464  4.15528941 15.78433044]\n",
            "2 [ 9.6713739   4.04876836 15.78433044]\n",
            "2 [ 9.6713739   4.04876836 15.78433044]\n",
            "2 [ 9.6713739   4.04876836 15.78433044]\n",
            "2 [ 9.6713739   4.04876836 15.78433044]\n",
            "2 [ 9.6713739   4.04876836 15.78433044]\n",
            "2 [ 9.6713739   4.04876836 15.78433044]\n",
            "2 [ 9.6713739   4.04876836 15.78433044]\n",
            "2 [ 9.6713739   4.04876836 15.78433044]\n",
            "2 [ 9.6713739   4.04876836 15.78433044]\n",
            "2 [ 9.6713739   4.04876836 15.78433044]\n",
            "2 [ 9.6713739   4.04876836 15.78433044]\n",
            "2 [ 9.6713739   4.04876836 15.78433044]\n",
            "2 [ 9.6713739   4.04876836 15.78433044]\n",
            "2 [ 9.6713739   4.04876836 15.78433044]\n",
            "2 [ 9.6713739   4.04876836 15.78433044]\n",
            "2 [ 9.6713739   4.04876836 15.78433044]\n",
            "2 [ 9.6713739   4.04876836 15.78433044]\n",
            "2 [ 9.6713739   4.04876836 15.78433044]\n",
            "2 [ 9.6713739   4.04876836 15.78433044]\n",
            "2 [ 9.6713739   4.04876836 15.78433044]\n",
            "2 [ 9.6713739   4.04876836 15.78433044]\n",
            "2 [ 9.6713739   4.04876836 15.78433044]\n",
            "2 [ 9.6713739   4.04876836 15.78433044]\n",
            "2 [ 9.6713739   4.04876836 15.78433044]\n",
            "2 [ 9.6713739   4.04876836 15.78433044]\n",
            "2 [ 9.6713739   4.04876836 15.78433044]\n",
            "2 [ 9.6713739   4.04876836 15.78433044]\n",
            "2 [ 9.6713739   4.04876836 15.78433044]\n",
            "2 [ 9.6713739   4.04876836 15.78433044]\n",
            "2 [ 9.6713739   4.04876836 15.78433044]\n",
            "2 [ 9.6713739   4.04876836 15.78433044]\n",
            "2 [ 9.6713739   4.04876836 15.78433044]\n",
            "2 [ 9.6713739   4.04876836 15.78433044]\n",
            "2 [ 9.6713739   4.04876836 15.78433044]\n",
            "2 [ 9.6713739   4.04876836 15.78433044]\n",
            "2 [ 9.6713739   4.04876836 15.78433044]\n",
            "2 [ 9.6713739   4.04876836 15.78433044]\n",
            "2 [ 9.6713739   4.04876836 15.78433044]\n",
            "2 [ 9.6713739   4.04876836 15.78433044]\n",
            "2 [ 9.6713739   4.04876836 15.78433044]\n",
            "2 [ 9.6713739   4.04876836 15.78433044]\n",
            "2 [ 9.6713739   4.04876836 15.78433044]\n",
            "2 [ 9.6713739   4.04876836 15.78433044]\n",
            "2 [ 9.6713739   4.04876836 15.78433044]\n",
            "2 [ 9.6713739   4.04876836 15.78433044]\n",
            "2 [ 9.6713739   4.04876836 15.78433044]\n",
            "2 [ 9.6713739   4.04876836 15.78433044]\n",
            "2 [ 9.6713739   4.04876836 15.78433044]\n",
            "2 [ 9.6713739   4.04876836 15.78433044]\n",
            "2 [ 9.6713739   4.04876836 15.78433044]\n",
            "2 [ 9.6713739   4.04876836 15.78433044]\n",
            "2 [ 9.6713739   4.04876836 15.78433044]\n",
            "2 [ 9.6713739   4.04876836 15.78433044]\n",
            "2 [ 9.6713739   4.04876836 15.78433044]\n",
            "2 [ 9.6713739   4.04876836 15.78433044]\n",
            "2 [ 9.6713739   4.04876836 15.78433044]\n",
            "2 [ 9.6713739   4.04876836 15.78433044]\n",
            "2 [ 9.6713739   4.04876836 15.78433044]\n",
            "2 [ 9.6713739   4.04876836 15.78433044]\n",
            "2 [ 9.6713739   4.04876836 15.78433044]\n",
            "2 [ 9.6713739   4.04876836 15.78433044]\n",
            "2 [ 9.6713739   4.04876836 15.78433044]\n",
            "2 [ 9.6713739   4.04876836 15.78433044]\n",
            "2 [ 9.6713739   4.04876836 15.78433044]\n",
            "2 [ 9.6713739   4.04876836 15.78433044]\n",
            "2 [ 9.6713739   4.04876836 15.78433044]\n",
            "2 [ 9.6713739   4.04876836 15.78433044]\n",
            "2 [ 9.6713739   4.04876836 15.78433044]\n",
            "2 [ 9.6713739   4.04876836 15.78433044]\n",
            "2 [ 9.6713739   4.04876836 15.78433044]\n",
            "2 [ 9.6713739   4.04876836 15.78433044]\n",
            "2 [ 9.6713739   4.04876836 15.78433044]\n",
            "2 [ 9.6713739   4.04876836 15.78433044]\n",
            "2 [ 9.6713739   4.04876836 15.78433044]\n",
            "2 [ 9.6713739   4.04876836 15.78433044]\n",
            "2 [ 9.6713739   4.04876836 15.78433044]\n",
            "2 [ 9.6713739   4.04876836 15.78433044]\n",
            "2 [ 9.6713739   4.04876836 15.78433044]\n",
            "2 [ 9.6713739   4.04876836 15.78433044]\n",
            "2 [ 9.6713739   4.04876836 15.78433044]\n",
            "2 [ 9.6713739   4.04876836 15.78433044]\n",
            "2 [ 9.6713739   4.04876836 15.78433044]\n",
            "2 [ 9.6713739   4.04876836 15.78433044]\n",
            "2 [ 9.6713739   4.04876836 15.78433044]\n",
            "2 [ 9.6713739   4.04876836 15.78433044]\n",
            "2 [ 9.6713739   4.04876836 15.78433044]\n",
            "2 [ 9.6713739   4.04876836 15.78433044]\n",
            "2 [ 9.6713739   4.04876836 15.78433044]\n",
            "2 [ 9.6713739   4.04876836 15.78433044]\n",
            "2 [ 9.6713739   4.04876836 15.78433044]\n",
            "2 [ 9.6713739   4.04876836 15.78433044]\n",
            "2 [ 9.6713739   4.04876836 15.78433044]\n",
            "2 [ 9.6713739   4.04876836 15.78433044]\n"
          ]
        }
      ]
    },
    {
      "cell_type": "markdown",
      "source": [
        "## Option 5C: Updating Clusters Until Convergence\n",
        "Write a code block that will repeat all of the code blocks from Section 5A until the clusters converge stop changing or \"converge\".  Convergence can be checked for if either the labels array or the centroids are stop changing.\n",
        "\n"
      ],
      "metadata": {
        "id": "ElzDq468bbop"
      }
    },
    {
      "cell_type": "markdown",
      "source": [
        "Additional features within your loop should:\n",
        "* `# Store the labels/centroids from each previous iteration`\n",
        "* `# Check if the old labels/centroids are equivalent to the new labels/centroids`"
      ],
      "metadata": {
        "id": "HjXNnY8RiIxK"
      }
    },
    {
      "cell_type": "code",
      "source": [
        "# Copy all of Updating Clusters code (5A) into a loop\n",
        "# Setup the loop to exit after convergence\n",
        "# [OPTIONAL] Setup the loop to exit after convergence OR end early after n iterations\n",
        "\n"
      ],
      "metadata": {
        "id": "4krRtYhqONmE"
      },
      "execution_count": null,
      "outputs": []
    },
    {
      "cell_type": "markdown",
      "source": [
        "# (6) Plotting the Clusters\n",
        "Use the matplotlib functions to display a graph showing the data points colored by cluster with clear markers indicating where the centroids are for each cluster."
      ],
      "metadata": {
        "id": "eCSS9nbKcEYr"
      }
    },
    {
      "cell_type": "markdown",
      "source": [
        "Useful matplotlib functions:\n",
        "* [plt.scatter](https://matplotlib.org/stable/api/_as_gen/matplotlib.pyplot.scatter.html#matplotlib.pyplot.scatter) - plots a scatterplot\n",
        "  * `x` parameter to specify data on horizontal axis\n",
        "  * `y` parameter to specify data on vertical axis\n",
        "  * `s` paramter to specify size of the plot marker\n",
        "  * `c` parameter to specify a list to color\n",
        "  * `marker` parameter to choose a [shape/character](https://matplotlib.org/stable/api/markers_api.html) to mark points\n",
        "  * `linewidths` parameter to specify how thick the marker should be\n",
        "  * `color` parameter to specify one specific color\n",
        "* [plt.xlabel](https://matplotlib.org/stable/api/_as_gen/matplotlib.pyplot.xlabel.html) - adds label to x-axis\n",
        "* [plt.ylabel](https://matplotlib.org/stable/api/_as_gen/matplotlib.pyplot.ylabel.html) - adds label to y-axis\n",
        "* [plt.title](https://matplotlib.org/stable/api/_as_gen/matplotlib.pyplot.title.html) - adds title to plot\n",
        "* [plt.show](https://matplotlib.org/stable/api/_as_gen/matplotlib.pyplot.show.html) - used to show a plot after using multiple plot commands"
      ],
      "metadata": {
        "id": "FB2pY6zTccCv"
      }
    },
    {
      "cell_type": "code",
      "source": [
        "# Create a scatterplot with all the datapoints\n",
        "# Note: Use c=labels parameter to color the dots based on their cluster\n",
        "plt.scatter(data, ydata, c = labels)"
      ],
      "metadata": {
        "colab": {
          "base_uri": "https://localhost:8080/",
          "height": 447
        },
        "id": "kVC7eA9kqSHp",
        "outputId": "ea5ab1ec-766e-4990-d703-9075b5504b0f"
      },
      "execution_count": null,
      "outputs": [
        {
          "output_type": "execute_result",
          "data": {
            "text/plain": [
              "<matplotlib.collections.PathCollection at 0x7f19b8c92380>"
            ]
          },
          "metadata": {},
          "execution_count": 47
        },
        {
          "output_type": "display_data",
          "data": {
            "text/plain": [
              "<Figure size 640x480 with 1 Axes>"
            ],
            "image/png": "[encoded data removed]"
          },
          "metadata": {}
        }
      ]
    },
    {
      "cell_type": "code",
      "source": [
        "# Create a scatterplot that adds the centroids with a red plus-sign (+) markers\n",
        "# Note: Look in the documentation for the optional parameters to add\n",
        "plt.scatter(centroids, ycentroids, marker = '+', s = 200, linewidths = 3, color = 'r')"
      ],
      "metadata": {
        "colab": {
          "base_uri": "https://localhost:8080/",
          "height": 447
        },
        "id": "KkLcrFUkqVIP",
        "outputId": "d728f9e2-3f0f-4108-fe17-c6dfaf645544"
      },
      "execution_count": null,
      "outputs": [
        {
          "output_type": "execute_result",
          "data": {
            "text/plain": [
              "<matplotlib.collections.PathCollection at 0x7f19b8b03370>"
            ]
          },
          "metadata": {},
          "execution_count": 48
        },
        {
          "output_type": "display_data",
          "data": {
            "text/plain": [
              "<Figure size 640x480 with 1 Axes>"
            ],
            "image/png": "[encoded data removed]"
          },
          "metadata": {}
        }
      ]
    },
    {
      "cell_type": "code",
      "source": [
        "# Plot both the datapoints AND red plus-sign(+)'s on the same plot\n",
        "# Note: Copy the lines of code from the previous block \n",
        "plt.scatter(data, ydata, c = labels)\n",
        "plt.scatter(centroids, ycentroids, marker = '+', s = 200, linewidths = 3, color = 'r')\n",
        "\n",
        "#display the scatterplot\n",
        "plt.show()"
      ],
      "metadata": {
        "colab": {
          "base_uri": "https://localhost:8080/",
          "height": 430
        },
        "id": "nmHnTNggqYfI",
        "outputId": "b2842733-5eee-4a1a-d114-fa489af0aa89"
      },
      "execution_count": null,
      "outputs": [
        {
          "output_type": "display_data",
          "data": {
            "text/plain": [
              "<Figure size 640x480 with 1 Axes>"
            ],
            "image/png": "[encoded data removed]"
          },
          "metadata": {}
        }
      ]
    }
  ]
}