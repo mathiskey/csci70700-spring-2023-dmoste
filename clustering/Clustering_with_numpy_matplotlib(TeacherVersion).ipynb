{
  "nbformat": 4,
  "nbformat_minor": 0,
  "metadata": {
    "colab": {
      "provenance": [],
      "collapsed_sections": [
        "n9SBztBGDmFK",
        "oS8AGclmD5P7",
        "iB3OC9pzGhql",
        "yi8jvu09W7DC",
        "IOgH04ROawXo",
        "-6gPiYIomJF4",
        "eCSS9nbKcEYr"
      ]
    },
    "kernelspec": {
      "name": "python3",
      "display_name": "Python 3"
    },
    "language_info": {
      "name": "python"
    }
  },
  "cells": [
    {
      "cell_type": "markdown",
      "source": [
        "# **HunterCS Topics: Clustering Code-Along**\n",
        "\n",
        "In this Colab, you will learn how to use some basic commands with numpy and matplotlib packages.  Then, you will use those functions to write an algorithm to cluster & visualize data using the k-means clustering algorithm for a 1-dimensional set of data."
      ],
      "metadata": {
        "id": "j6lNQGS3dKNx"
      }
    },
    {
      "cell_type": "markdown",
      "source": [
        "# (1) Generating Random Data with numpy\n",
        "When trying to write an algorithm, we want to make sure we know what the outcome will be. We'll generate data that has obvious clusters so that we can check that our clustering algorithm works properly."
      ],
      "metadata": {
        "id": "n9SBztBGDmFK"
      }
    },
    {
      "cell_type": "markdown",
      "source": [
        "The `numpy` library has a `random` package similar to the `random` library we have used before. It is especially good for creating arrays of random values based on particular data distributions.\n",
        "\n",
        "**numpy** Functions that Generate Random Numbers:\n",
        "* [np.random.randint](https://numpy.org/doc/stable/reference/random/generated/numpy.random.randint.html#numpy.random.randint) - generates a random int across a range\n",
        "* [np.random.uniform](https://numpy.org/doc/stable/reference/random/generated/numpy.random.uniform.html) - generates a random float across a range\n",
        "* [np.random.normal](https://numpy.org/doc/stable/reference/random/generated/numpy.random.normal.html#numpy.random.normal) - generates a random float across a normal distribution\n",
        "* [np.random.choice](https://numpy.org/doc/stable/reference/random/generated/numpy.random.choice.html#numpy-random-choice) - chooses a random number from an array\n",
        "\n",
        "And many more!\n"
      ],
      "metadata": {
        "id": "rSxWFwEksfVB"
      }
    },
    {
      "cell_type": "code",
      "source": [
        "# Import numpy\n",
        "# np is a common nickname to save typing time\n",
        "import numpy as np"
      ],
      "metadata": {
        "id": "HKeg9bvOWFat"
      },
      "execution_count": null,
      "outputs": []
    },
    {
      "cell_type": "code",
      "source": [
        "# Generate 1 random int from 0 to 100\n",
        "# Like most programming syntax, this excludes 100\n",
        "np.random.randint(100)"
      ],
      "metadata": {
        "id": "K9mxuaEKdD8s",
        "colab": {
          "base_uri": "https://localhost:8080/"
        },
        "outputId": "3e4012b5-114f-485e-e6ce-247563918f60"
      },
      "execution_count": null,
      "outputs": [
        {
          "output_type": "execute_result",
          "data": {
            "text/plain": [
              "70"
            ]
          },
          "metadata": {},
          "execution_count": 12
        }
      ]
    },
    {
      "cell_type": "code",
      "source": [
        "# Generate an array of 10 random ints from 0 to 100\n",
        "# The line 'r1' acts as an implied print command, like you might use\n",
        "# in an interactive terminal. A block in an ipynb will display the last\n",
        "# such implied command it encounters, so if you want multiple items to print,\n",
        "# use an explicit print statement.\n",
        "r1 = np.random.randint(100, size = 10)\n",
        "r1"
      ],
      "metadata": {
        "id": "Mtrz_WGBdFo0",
        "colab": {
          "base_uri": "https://localhost:8080/"
        },
        "outputId": "4396a4dd-237a-4425-99b2-2cf67adb9026"
      },
      "execution_count": null,
      "outputs": [
        {
          "output_type": "execute_result",
          "data": {
            "text/plain": [
              "array([ 5, 22, 20, 42,  5, 86, 91, 82, 59, 60])"
            ]
          },
          "metadata": {},
          "execution_count": 13
        }
      ]
    },
    {
      "cell_type": "code",
      "source": [
        "# Generate an array of 25 random floats from a uniform distribution\n",
        "# A uniform distribution means that all outcomes between the low and high values\n",
        "# are equally likely. For example, the outcome of rolling a die has a uniform\n",
        "# distribution, because you're equally likely to get a 1, 2, 3, 4, 5, and 6.\n",
        "u1 = np.random.uniform(0,100,size=25)\n",
        "u1"
      ],
      "metadata": {
        "id": "mr2CXaWadH88",
        "colab": {
          "base_uri": "https://localhost:8080/"
        },
        "outputId": "2011dabf-887e-453c-f482-6fd24fc91f00"
      },
      "execution_count": null,
      "outputs": [
        {
          "output_type": "execute_result",
          "data": {
            "text/plain": [
              "array([13.17023553, 92.83834778, 48.28468154, 41.68319845, 58.43329204,\n",
              "       43.08910784, 85.33229645, 71.37989365, 53.07070781, 55.64300994,\n",
              "        5.43230187, 16.74473279, 18.81131246, 74.09808723, 52.21521959,\n",
              "        3.36340629, 57.82959578, 28.59775669, 45.96434942, 59.09160369,\n",
              "        4.20857941, 28.86774556, 24.56436513, 91.38614472, 50.60665906])"
            ]
          },
          "metadata": {},
          "execution_count": 14
        }
      ]
    },
    {
      "cell_type": "code",
      "source": [
        "# Generate an array of random floats from a normal dist\n",
        "# Normal distributions are a bell curve. We can specify\n",
        "# the \"loc\", or center, and the \"scale,\" or standard deviation.\n",
        "\n",
        "# located with a center at 4, scale of 1.5 and size of 25\n",
        "n1 = np.random.normal(loc=4, scale=1.5, size=25)\n",
        "n1"
      ],
      "metadata": {
        "id": "CvYXE-8-dKTl",
        "colab": {
          "base_uri": "https://localhost:8080/"
        },
        "outputId": "c5e3c1dc-82c7-4db5-cdf2-79ae0f0962a0"
      },
      "execution_count": null,
      "outputs": [
        {
          "output_type": "execute_result",
          "data": {
            "text/plain": [
              "array([0.70737729, 4.16198507, 4.90656583, 4.0419866 , 6.12494285,\n",
              "       2.42864343, 3.55971989, 3.16539891, 2.13989301, 5.5256474 ,\n",
              "       4.20535463, 3.07877212, 7.4439184 , 3.63729929, 4.66869311,\n",
              "       6.09371986, 3.41943906, 3.69259313, 3.09485136, 3.68399927,\n",
              "       4.19194451, 1.45305627, 6.4374674 , 6.76856386, 6.15137059])"
            ]
          },
          "metadata": {},
          "execution_count": 15
        }
      ]
    },
    {
      "cell_type": "markdown",
      "source": [
        "# (2) Plotting Data with matplotlib\n",
        "\n",
        "**Matplotlib** is a very versatile plotting library for python (based on MATLAB). You've already used it in the ray tracing lesson to build the image you rendered. Here we will use it for data visualization, so that we can see the clustering in the data. We will be using the pyplot package in the matplotlib library."
      ],
      "metadata": {
        "id": "oS8AGclmD5P7"
      }
    },
    {
      "cell_type": "markdown",
      "source": [
        "Useful **matplotlib.pyplot** functions:\n",
        "* [plt.hist](https://matplotlib.org/stable/api/_as_gen/matplotlib.pyplot.hist.html) - plots a histogram\n",
        "* [plt.scatter](https://matplotlib.org/stable/api/_as_gen/matplotlib.pyplot.scatter.html#matplotlib.pyplot.scatter) - plots a scatterplot\n",
        "* [plt.show](https://matplotlib.org/stable/api/_as_gen/matplotlib.pyplot.show.html) - used to show a plot after using multiple plot commands"
      ],
      "metadata": {
        "id": "IWqM3Sn3xrps"
      }
    },
    {
      "cell_type": "code",
      "source": [
        "#import matplotlib\n",
        "# plt is a common nickname for matplotlib.pyplot to save typing time\n",
        "import matplotlib.pyplot as plt"
      ],
      "metadata": {
        "id": "xVLfN53-WepQ"
      },
      "execution_count": null,
      "outputs": []
    },
    {
      "cell_type": "code",
      "source": [
        "#Create a graph that shows frequency of points (aka histogram)\n",
        "plt.hist(n1)"
      ],
      "metadata": {
        "colab": {
          "base_uri": "https://localhost:8080/",
          "height": 517
        },
        "id": "wwoO5KcOx3DL",
        "outputId": "6512db65-7ceb-4314-91f9-71f45e322b44"
      },
      "execution_count": null,
      "outputs": [
        {
          "output_type": "execute_result",
          "data": {
            "text/plain": [
              "(array([1., 1., 2., 3., 6., 4., 1., 2., 4., 1.]),\n",
              " array([0.70737729, 1.3810314 , 2.05468551, 2.72833963, 3.40199374,\n",
              "        4.07564785, 4.74930196, 5.42295607, 6.09661018, 6.77026429,\n",
              "        7.4439184 ]),\n",
              " <BarContainer object of 10 artists>)"
            ]
          },
          "metadata": {},
          "execution_count": 17
        },
        {
          "output_type": "display_data",
          "data": {
            "text/plain": [
              "<Figure size 640x480 with 1 Axes>"
            ],
            "image/png": "[encoded data removed]"
          },
          "metadata": {}
        }
      ]
    },
    {
      "cell_type": "code",
      "source": [
        "# Create a scatter plot \n",
        "# First: using two of our previous data sets\n",
        "# Then: since our data is 1D, make ydata an array of zeros\n",
        "# np.zeros(n) makes a numpy array of length n containing\n",
        "# the float value 0.\n",
        "\n",
        "#V1: \n",
        "xdata = u1 # our uniform data\n",
        "# ydata = n1 # our normal data\n",
        "# plt.scatter(xdata, ydata)\n",
        "\n",
        "#V2:\n",
        "# make an array of zeros same length as xdata.\n",
        "ydata = np.zeros(len(xdata)) # Notice the spelling - no zeroes!"
      ],
      "metadata": {
        "id": "Jz3INvkJguA5",
        "colab": {
          "base_uri": "https://localhost:8080/",
          "height": 447
        },
        "outputId": "3bee7e12-2853-45a8-92bc-8e02c02f398c"
      },
      "execution_count": null,
      "outputs": [
        {
          "output_type": "execute_result",
          "data": {
            "text/plain": [
              "<matplotlib.collections.PathCollection at 0x7f335ed6e710>"
            ]
          },
          "metadata": {},
          "execution_count": 18
        },
        {
          "output_type": "display_data",
          "data": {
            "text/plain": [
              "<Figure size 640x480 with 1 Axes>"
            ],
            "image/png": "[encoded data removed]"
          },
          "metadata": {}
        }
      ]
    },
    {
      "cell_type": "markdown",
      "source": [
        "# (3) Getting Data\n",
        "Most data science is done by importing data from a .csv (Comma Separated Value) file. Because our focus today is clustering, we will provide some simpler options:\n",
        "1. Generate random data to meet our desired criteria\n",
        "2. Provide data as a numpy array variable from a list\n",
        "3. Import data from a .csv file"
      ],
      "metadata": {
        "id": "iB3OC9pzGhql"
      }
    },
    {
      "cell_type": "markdown",
      "source": [
        "## Option 3A: Getting Data from Random Numbers\n",
        "\n",
        "In order to make sure our algorithm works, we need to use data that will cluster predictably. We already generated `n1`, which includes 25 random floating-point numbers centered at 5; we'll create more arrays at other values the same way to make sure that we will have distinct clusters. Then we'll combine the arrays into a single dataset."
      ],
      "metadata": {
        "id": "eVW9ZOivXHiL"
      }
    },
    {
      "cell_type": "markdown",
      "source": [
        "Useful **numpy** functions:\n",
        "\n",
        "* [np.concatenate](https://numpy.org/doc/stable/reference/generated/numpy.concatenate.html#numpy-concatenate) - combines multiple arrays into single array\n"
      ],
      "metadata": {
        "id": "1A37tj3o1V4b"
      }
    },
    {
      "cell_type": "code",
      "source": [
        "# Generate a second set of random numbers with a center at 10, scale of 1.5 and size of 25\n",
        "n2 = np.random.normal(loc=10, scale=1.5, size=25)\n",
        "n2"
      ],
      "metadata": {
        "id": "GuSVkrpFYa-E",
        "colab": {
          "base_uri": "https://localhost:8080/"
        },
        "outputId": "46c6d0b0-8652-4075-c4f1-2e55b52a6bb5"
      },
      "execution_count": null,
      "outputs": [
        {
          "output_type": "execute_result",
          "data": {
            "text/plain": [
              "array([ 9.26363359,  7.52641009, 10.59751873,  9.07533427, 10.46279665,\n",
              "       12.41965594, 10.15125121,  4.51474781, 10.69185381, 11.05779155,\n",
              "       14.5785566 , 10.97253827, 10.20141795, 10.44796892,  9.20654327,\n",
              "        7.47219082, 15.25533901, 10.57349733,  9.96158041,  9.0254484 ,\n",
              "        8.0946291 , 11.03716262,  7.80200783, 10.14370223, 13.17002877])"
            ]
          },
          "metadata": {},
          "execution_count": 106
        }
      ]
    },
    {
      "cell_type": "code",
      "source": [
        "# Generate a third set of random numbers with a center at 16, scale of 1.5 and size of 25\n",
        "n3 = np.random.normal(loc=16, scale=1.5, size=25)\n",
        "n3"
      ],
      "metadata": {
        "colab": {
          "base_uri": "https://localhost:8080/"
        },
        "id": "i5HmPBXKiPvh",
        "outputId": "f944e0a8-e6ce-4daf-ca50-601acc2cdb6f"
      },
      "execution_count": null,
      "outputs": [
        {
          "output_type": "execute_result",
          "data": {
            "text/plain": [
              "array([16.42136706, 16.69648885, 17.68397824, 17.02656002, 17.83814056,\n",
              "       14.30386566, 14.42953024, 14.35585739, 14.98704217, 17.08459942,\n",
              "       16.39493065, 17.37018347, 17.01095109, 16.63417351, 17.79232519,\n",
              "       13.95868919, 15.73529075, 14.21064583, 15.50878644, 15.76190258,\n",
              "       15.96194769, 16.15241997, 15.59888403, 13.65249631, 18.65396764])"
            ]
          },
          "metadata": {},
          "execution_count": 107
        }
      ]
    },
    {
      "cell_type": "code",
      "source": [
        "# Plot all 3 sets of random numbers\n",
        "# Note: Use the array of zeros we generated previously, ydata, for the y-axis plotting\n",
        "plt.scatter(n1, ydata)\n",
        "plt.scatter(n2, ydata)\n",
        "plt.scatter(n3, ydata)"
      ],
      "metadata": {
        "colab": {
          "base_uri": "https://localhost:8080/",
          "height": 447
        },
        "id": "eoNqW0lMiQDH",
        "outputId": "e8cb6b91-73de-4b59-cb0f-6df6705a93cd"
      },
      "execution_count": null,
      "outputs": [
        {
          "output_type": "execute_result",
          "data": {
            "text/plain": [
              "<matplotlib.collections.PathCollection at 0x7f9f29df0310>"
            ]
          },
          "metadata": {},
          "execution_count": 108
        },
        {
          "output_type": "display_data",
          "data": {
            "text/plain": [
              "<Figure size 640x480 with 1 Axes>"
            ],
            "image/png": "[encoded data removed]"
          },
          "metadata": {}
        }
      ]
    },
    {
      "cell_type": "code",
      "source": [
        "# [OPTIONAL] Create a histogram to plot the 3 sets of numbers\n",
        "# Use the bins parameter to determine how \"skinny\" the bars should be\n",
        "plt.hist(n1, bins=10)\n",
        "plt.hist(n2, bins=10)\n",
        "plt.hist(n3, bins=10)\n",
        "plt.show()"
      ],
      "metadata": {
        "colab": {
          "base_uri": "https://localhost:8080/",
          "height": 430
        },
        "outputId": "61a03b50-9d84-4819-8482-8f95333555fc",
        "id": "vpuL6lHUKQMo"
      },
      "execution_count": null,
      "outputs": [
        {
          "output_type": "display_data",
          "data": {
            "text/plain": [
              "<Figure size 640x480 with 1 Axes>"
            ],
            "image/png": "[encoded data removed]"
          },
          "metadata": {}
        }
      ]
    },
    {
      "cell_type": "code",
      "source": [
        "# Concatenate the 3 sets of random numbers into 1 larger data array\n",
        "# Note: the concatenate() function takes in an array of arrays, indicated by []\n",
        "data = np.concatenate([n1, n2, n3])\n",
        "data"
      ],
      "metadata": {
        "colab": {
          "base_uri": "https://localhost:8080/"
        },
        "id": "-gFnXOB-kU7z",
        "outputId": "ebd2215d-ee80-4c70-a1d4-1b0027d99a6f"
      },
      "execution_count": null,
      "outputs": [
        {
          "output_type": "execute_result",
          "data": {
            "text/plain": [
              "array([ 3.0275082 ,  2.75683723,  4.0358836 ,  4.28301262,  6.74251017,\n",
              "        4.96014815,  3.11705029,  2.48192113,  3.54886012,  6.16824302,\n",
              "        5.20741775,  3.12656607,  2.85392586,  4.38449075,  3.45293974,\n",
              "        0.75117978,  1.92086234,  3.29807213,  7.84248613,  2.88257953,\n",
              "        2.8877462 ,  4.49771959,  5.73546375,  2.98517885,  3.93680119,\n",
              "        9.26363359,  7.52641009, 10.59751873,  9.07533427, 10.46279665,\n",
              "       12.41965594, 10.15125121,  4.51474781, 10.69185381, 11.05779155,\n",
              "       14.5785566 , 10.97253827, 10.20141795, 10.44796892,  9.20654327,\n",
              "        7.47219082, 15.25533901, 10.57349733,  9.96158041,  9.0254484 ,\n",
              "        8.0946291 , 11.03716262,  7.80200783, 10.14370223, 13.17002877,\n",
              "       16.42136706, 16.69648885, 17.68397824, 17.02656002, 17.83814056,\n",
              "       14.30386566, 14.42953024, 14.35585739, 14.98704217, 17.08459942,\n",
              "       16.39493065, 17.37018347, 17.01095109, 16.63417351, 17.79232519,\n",
              "       13.95868919, 15.73529075, 14.21064583, 15.50878644, 15.76190258,\n",
              "       15.96194769, 16.15241997, 15.59888403, 13.65249631, 18.65396764])"
            ]
          },
          "metadata": {},
          "execution_count": 110
        }
      ]
    },
    {
      "cell_type": "code",
      "source": [
        "# Create a scatterplot the new set of data\n",
        "# Note: Update the ydata array of zeros to match the size of the bigger data array\n",
        "ydata = np.zeros(75)\n",
        "plt.scatter(data, ydata)"
      ],
      "metadata": {
        "colab": {
          "base_uri": "https://localhost:8080/",
          "height": 447
        },
        "id": "6CBuk9b5kXfZ",
        "outputId": "637b4a76-ac5a-4aed-bd68-79a528cf226e"
      },
      "execution_count": null,
      "outputs": [
        {
          "output_type": "execute_result",
          "data": {
            "text/plain": [
              "<matplotlib.collections.PathCollection at 0x7f9f29bc2ad0>"
            ]
          },
          "metadata": {},
          "execution_count": 111
        },
        {
          "output_type": "display_data",
          "data": {
            "text/plain": [
              "<Figure size 640x480 with 1 Axes>"
            ],
            "image/png": "[encoded data removed]"
          },
          "metadata": {}
        }
      ]
    },
    {
      "cell_type": "code",
      "source": [
        "# [OPTIONAL] Create a histogram to show the data\n",
        "# Use the bins parameter to determine how \"skinny\" the bars should be\n",
        "plt.hist(data, bins=20)\n"
      ],
      "metadata": {
        "colab": {
          "base_uri": "https://localhost:8080/",
          "height": 569
        },
        "id": "OXIkvL1poTWJ",
        "outputId": "459b2520-c0cb-47a3-ba98-c729badb4cae"
      },
      "execution_count": null,
      "outputs": [
        {
          "output_type": "execute_result",
          "data": {
            "text/plain": [
              "(array([1., 2., 9., 5., 5., 1., 2., 4., 1., 4., 8., 4., 0., 2., 2., 6., 6.,\n",
              "        5., 5., 3.]),\n",
              " array([ 0.75117978,  1.64631918,  2.54145857,  3.43659796,  4.33173735,\n",
              "         5.22687675,  6.12201614,  7.01715553,  7.91229493,  8.80743432,\n",
              "         9.70257371, 10.5977131 , 11.4928525 , 12.38799189, 13.28313128,\n",
              "        14.17827067, 15.07341007, 15.96854946, 16.86368885, 17.75882825,\n",
              "        18.65396764]),\n",
              " <BarContainer object of 20 artists>)"
            ]
          },
          "metadata": {},
          "execution_count": 112
        },
        {
          "output_type": "display_data",
          "data": {
            "text/plain": [
              "<Figure size 640x480 with 1 Axes>"
            ],
            "image/png": "[encoded data removed]"
          },
          "metadata": {}
        }
      ]
    },
    {
      "cell_type": "markdown",
      "source": [
        "## Option 3B: Getting Data from a List\n",
        "Our class completed a survey about:\n",
        "* horror movie preferences\n",
        "* favorite number\n",
        "* preferred number of pets\n",
        "* how much to pay for shoes\n",
        "* height in inches\n",
        "\n",
        "This data was copied into a **numpy** array that can be checked for clustering."
      ],
      "metadata": {
        "id": "A280Xv2yJ-z1"
      }
    },
    {
      "cell_type": "code",
      "source": [
        "# Access arrays of data from our class survey\n",
        "heights=np.array([65,72,65,60.5,70,77,60,65,67,67,65,60,73.5,60.25,63,68,69,62.5,63,63,70,69,57,68,64,70,67,72,66,72,68,67,63])\n",
        "shoes=np.array([180,65,150,200,200,150,200,400,100,200,500,200,350,300,500,80,250,80,200,240,175,350,200,150,150,60,200,200,100,300,75,140,200])\n",
        "horror=np.array([2.1,1.1,2.5,2.6,1.2,2.2,1.2,5.8,7.1,5.1,7.2,1.6,4.7,3.3,1.1,4.7,5.0,5.2,4.3,3.3,2.8,4.1,7.8,1.1,1.8,1.6,5.4,3.2,1.0,7.8,5.6,7.0,2.9])\n",
        "fave_nums=np.array([7,7,2,8,7,9,4,7,7,3,10,1,3,9,2,4,7,6,10,7,7,7,10,7,2,8,4,8,9,10,7,1,5])\n",
        "pets=np.array([4,0,2,3,0,2,1,2,3,2,0,1,1,3,0,4,0,0,1,3,1,4,1,0,2,2,0,0,2,5,2,1,0])\n",
        "heights"
      ],
      "metadata": {
        "id": "4dWZWUCXlCOU",
        "colab": {
          "base_uri": "https://localhost:8080/"
        },
        "outputId": "942e7a49-4f87-4dcc-c44c-c678709e74ea"
      },
      "execution_count": null,
      "outputs": [
        {
          "output_type": "execute_result",
          "data": {
            "text/plain": [
              "array([65.  , 72.  , 65.  , 60.5 , 70.  , 77.  , 60.  , 65.  , 67.  ,\n",
              "       67.  , 65.  , 60.  , 73.5 , 60.25, 63.  , 68.  , 69.  , 62.5 ,\n",
              "       63.  , 63.  , 70.  , 69.  , 57.  , 68.  , 64.  , 70.  , 67.  ,\n",
              "       72.  , 66.  , 72.  , 68.  , 67.  , 63.  ])"
            ]
          },
          "metadata": {},
          "execution_count": 145
        }
      ]
    },
    {
      "cell_type": "code",
      "source": [
        "# Assign arrays to be used for clustering (as data)\n",
        "# data = heights\n",
        "# data = shoes\n",
        "# data = horror\n",
        "# data=fave_nums       #not good for clustering with 1D data\n",
        "# data=pets            #not good for clustering with 1D data\n",
        "data"
      ],
      "metadata": {
        "colab": {
          "base_uri": "https://localhost:8080/"
        },
        "id": "RSjr_9Yz-wc1",
        "outputId": "3a6d2bb9-4b1e-409b-cfd3-369415b26b00"
      },
      "execution_count": null,
      "outputs": [
        {
          "output_type": "execute_result",
          "data": {
            "text/plain": [
              "array([344700., 176500., 270500., ...,  62000., 162500., 500001.])"
            ]
          },
          "metadata": {},
          "execution_count": 146
        }
      ]
    },
    {
      "cell_type": "code",
      "source": [
        "# Setup the ydata value\n",
        "# Note: if 1D data, make an array of zeros the same length as the xdata\n",
        "#ydata = heights\n",
        "ydata = np.zeros(len(data))\n",
        "ydata"
      ],
      "metadata": {
        "colab": {
          "base_uri": "https://localhost:8080/"
        },
        "id": "kB1M12Omnsua",
        "outputId": "8ef55727-ea47-48f0-c212-9302dd835980"
      },
      "execution_count": null,
      "outputs": [
        {
          "output_type": "execute_result",
          "data": {
            "text/plain": [
              "array([0., 0., 0., 0., 0., 0., 0., 0., 0., 0., 0., 0., 0., 0., 0., 0., 0.,\n",
              "       0., 0., 0., 0., 0., 0., 0., 0., 0., 0., 0., 0., 0., 0., 0., 0., 0.,\n",
              "       0., 0., 0., 0., 0., 0., 0., 0., 0., 0., 0., 0., 0., 0., 0., 0., 0.,\n",
              "       0., 0., 0., 0., 0., 0., 0., 0., 0., 0., 0., 0., 0., 0., 0., 0., 0.,\n",
              "       0., 0., 0., 0., 0., 0., 0.])"
            ]
          },
          "metadata": {},
          "execution_count": 115
        }
      ]
    },
    {
      "cell_type": "code",
      "source": [
        "# Plot the new set of data\n",
        "plt.scatter(data, ydata)"
      ],
      "metadata": {
        "colab": {
          "base_uri": "https://localhost:8080/",
          "height": 447
        },
        "outputId": "cac6555c-8af4-4f55-f8dd-7547a4f48091",
        "id": "4WryRpVjWGMr"
      },
      "execution_count": null,
      "outputs": [
        {
          "output_type": "execute_result",
          "data": {
            "text/plain": [
              "<matplotlib.collections.PathCollection at 0x7f9f29aab9d0>"
            ]
          },
          "metadata": {},
          "execution_count": 116
        },
        {
          "output_type": "display_data",
          "data": {
            "text/plain": [
              "<Figure size 640x480 with 1 Axes>"
            ],
            "image/png": "[encoded data removed]"
          },
          "metadata": {}
        }
      ]
    },
    {
      "cell_type": "markdown",
      "source": [
        "## Option 3C: Getting Data from a .CSV file\n",
        "**pandas** is a python module widely used for handling large data sets like those you might get from a .csv file.  A pandas \"Dataframe\" is the coding structure used to maniuplate the data."
      ],
      "metadata": {
        "id": "sgOutyfgtj6a"
      }
    },
    {
      "cell_type": "markdown",
      "source": [
        "Useful **pandas** functions:\n",
        "\n",
        "* [pd.read_csv](https://pandas.pydata.org/docs/reference/api/pandas.read_csv.html) - import a csv file's data\n",
        "* [pd.to_numpy](https://pandas.pydata.org/docs/reference/api/pandas.DataFrame.to_numpy.html) - convert a pandas dataframe (or column)\n",
        "\n",
        "Notes:\n",
        "1. *Uncomment code segments to run*\n",
        "2. *Make sure to import a .csv file into the project, by placing it in the 'content' folder of the Colab*\n",
        "3. *You can find many real-world .csv datasets at [Kaggle.com](https://www.kaggle.com/datasets?fileType=csv)*"
      ],
      "metadata": {
        "id": "YV2yduWB8wA1"
      }
    },
    {
      "cell_type": "code",
      "source": [
        "# Import the pandas module\n",
        "import pandas as pd"
      ],
      "metadata": {
        "id": "volliTWb1asB"
      },
      "execution_count": null,
      "outputs": []
    },
    {
      "cell_type": "code",
      "source": [
        "# Import data from a csv file as a \"dataframe\"\n",
        "# Note: Make sure you have a .csv file in your project folder (in Colab, check the \"content\" folder)\n",
        "# df = pd.read_csv('sample_data/california_housing_test.csv')\n",
        "df = pd.read_csv('sample_data/california_housing_test.csv')\n",
        "df"
      ],
      "metadata": {
        "id": "-qMJlcul1fhY",
        "colab": {
          "base_uri": "https://localhost:8080/",
          "height": 488
        },
        "outputId": "7da7cd46-39dc-4fd1-e085-91a5dae71e93"
      },
      "execution_count": null,
      "outputs": [
        {
          "output_type": "execute_result",
          "data": {
            "text/plain": [
              "      longitude  latitude  housing_median_age  total_rooms  total_bedrooms  \\\n",
              "0       -122.05     37.37                27.0       3885.0           661.0   \n",
              "1       -118.30     34.26                43.0       1510.0           310.0   \n",
              "2       -117.81     33.78                27.0       3589.0           507.0   \n",
              "3       -118.36     33.82                28.0         67.0            15.0   \n",
              "4       -119.67     36.33                19.0       1241.0           244.0   \n",
              "...         ...       ...                 ...          ...             ...   \n",
              "2995    -119.86     34.42                23.0       1450.0           642.0   \n",
              "2996    -118.14     34.06                27.0       5257.0          1082.0   \n",
              "2997    -119.70     36.30                10.0        956.0           201.0   \n",
              "2998    -117.12     34.10                40.0         96.0            14.0   \n",
              "2999    -119.63     34.42                42.0       1765.0           263.0   \n",
              "\n",
              "      population  households  median_income  median_house_value  \n",
              "0         1537.0       606.0         6.6085            344700.0  \n",
              "1          809.0       277.0         3.5990            176500.0  \n",
              "2         1484.0       495.0         5.7934            270500.0  \n",
              "3           49.0        11.0         6.1359            330000.0  \n",
              "4          850.0       237.0         2.9375             81700.0  \n",
              "...          ...         ...            ...                 ...  \n",
              "2995      1258.0       607.0         1.1790            225000.0  \n",
              "2996      3496.0      1036.0         3.3906            237200.0  \n",
              "2997       693.0       220.0         2.2895             62000.0  \n",
              "2998        46.0        14.0         3.2708            162500.0  \n",
              "2999       753.0       260.0         8.5608            500001.0  \n",
              "\n",
              "[3000 rows x 9 columns]"
            ],
            "text/html": [
              "\n",
              "  <div id=\"df-de1e6db3-74c7-47a4-8fab-3e503da5a782\">\n",
              "    <div class=\"colab-df-container\">\n",
              "      <div>\n",
              "<style scoped>\n",
              "    .dataframe tbody tr th:only-of-type {\n",
              "        vertical-align: middle;\n",
              "    }\n",
              "\n",
              "    .dataframe tbody tr th {\n",
              "        vertical-align: top;\n",
              "    }\n",
              "\n",
              "    .dataframe thead th {\n",
              "        text-align: right;\n",
              "    }\n",
              "</style>\n",
              "<table border=\"1\" class=\"dataframe\">\n",
              "  <thead>\n",
              "    <tr style=\"text-align: right;\">\n",
              "      <th></th>\n",
              "      <th>longitude</th>\n",
              "      <th>latitude</th>\n",
              "      <th>housing_median_age</th>\n",
              "      <th>total_rooms</th>\n",
              "      <th>total_bedrooms</th>\n",
              "      <th>population</th>\n",
              "      <th>households</th>\n",
              "      <th>median_income</th>\n",
              "      <th>median_house_value</th>\n",
              "    </tr>\n",
              "  </thead>\n",
              "  <tbody>\n",
              "    <tr>\n",
              "      <th>0</th>\n",
              "      <td>-122.05</td>\n",
              "      <td>37.37</td>\n",
              "      <td>27.0</td>\n",
              "      <td>3885.0</td>\n",
              "      <td>661.0</td>\n",
              "      <td>1537.0</td>\n",
              "      <td>606.0</td>\n",
              "      <td>6.6085</td>\n",
              "      <td>344700.0</td>\n",
              "    </tr>\n",
              "    <tr>\n",
              "      <th>1</th>\n",
              "      <td>-118.30</td>\n",
              "      <td>34.26</td>\n",
              "      <td>43.0</td>\n",
              "      <td>1510.0</td>\n",
              "      <td>310.0</td>\n",
              "      <td>809.0</td>\n",
              "      <td>277.0</td>\n",
              "      <td>3.5990</td>\n",
              "      <td>176500.0</td>\n",
              "    </tr>\n",
              "    <tr>\n",
              "      <th>2</th>\n",
              "      <td>-117.81</td>\n",
              "      <td>33.78</td>\n",
              "      <td>27.0</td>\n",
              "      <td>3589.0</td>\n",
              "      <td>507.0</td>\n",
              "      <td>1484.0</td>\n",
              "      <td>495.0</td>\n",
              "      <td>5.7934</td>\n",
              "      <td>270500.0</td>\n",
              "    </tr>\n",
              "    <tr>\n",
              "      <th>3</th>\n",
              "      <td>-118.36</td>\n",
              "      <td>33.82</td>\n",
              "      <td>28.0</td>\n",
              "      <td>67.0</td>\n",
              "      <td>15.0</td>\n",
              "      <td>49.0</td>\n",
              "      <td>11.0</td>\n",
              "      <td>6.1359</td>\n",
              "      <td>330000.0</td>\n",
              "    </tr>\n",
              "    <tr>\n",
              "      <th>4</th>\n",
              "      <td>-119.67</td>\n",
              "      <td>36.33</td>\n",
              "      <td>19.0</td>\n",
              "      <td>1241.0</td>\n",
              "      <td>244.0</td>\n",
              "      <td>850.0</td>\n",
              "      <td>237.0</td>\n",
              "      <td>2.9375</td>\n",
              "      <td>81700.0</td>\n",
              "    </tr>\n",
              "    <tr>\n",
              "      <th>...</th>\n",
              "      <td>...</td>\n",
              "      <td>...</td>\n",
              "      <td>...</td>\n",
              "      <td>...</td>\n",
              "      <td>...</td>\n",
              "      <td>...</td>\n",
              "      <td>...</td>\n",
              "      <td>...</td>\n",
              "      <td>...</td>\n",
              "    </tr>\n",
              "    <tr>\n",
              "      <th>2995</th>\n",
              "      <td>-119.86</td>\n",
              "      <td>34.42</td>\n",
              "      <td>23.0</td>\n",
              "      <td>1450.0</td>\n",
              "      <td>642.0</td>\n",
              "      <td>1258.0</td>\n",
              "      <td>607.0</td>\n",
              "      <td>1.1790</td>\n",
              "      <td>225000.0</td>\n",
              "    </tr>\n",
              "    <tr>\n",
              "      <th>2996</th>\n",
              "      <td>-118.14</td>\n",
              "      <td>34.06</td>\n",
              "      <td>27.0</td>\n",
              "      <td>5257.0</td>\n",
              "      <td>1082.0</td>\n",
              "      <td>3496.0</td>\n",
              "      <td>1036.0</td>\n",
              "      <td>3.3906</td>\n",
              "      <td>237200.0</td>\n",
              "    </tr>\n",
              "    <tr>\n",
              "      <th>2997</th>\n",
              "      <td>-119.70</td>\n",
              "      <td>36.30</td>\n",
              "      <td>10.0</td>\n",
              "      <td>956.0</td>\n",
              "      <td>201.0</td>\n",
              "      <td>693.0</td>\n",
              "      <td>220.0</td>\n",
              "      <td>2.2895</td>\n",
              "      <td>62000.0</td>\n",
              "    </tr>\n",
              "    <tr>\n",
              "      <th>2998</th>\n",
              "      <td>-117.12</td>\n",
              "      <td>34.10</td>\n",
              "      <td>40.0</td>\n",
              "      <td>96.0</td>\n",
              "      <td>14.0</td>\n",
              "      <td>46.0</td>\n",
              "      <td>14.0</td>\n",
              "      <td>3.2708</td>\n",
              "      <td>162500.0</td>\n",
              "    </tr>\n",
              "    <tr>\n",
              "      <th>2999</th>\n",
              "      <td>-119.63</td>\n",
              "      <td>34.42</td>\n",
              "      <td>42.0</td>\n",
              "      <td>1765.0</td>\n",
              "      <td>263.0</td>\n",
              "      <td>753.0</td>\n",
              "      <td>260.0</td>\n",
              "      <td>8.5608</td>\n",
              "      <td>500001.0</td>\n",
              "    </tr>\n",
              "  </tbody>\n",
              "</table>\n",
              "<p>3000 rows × 9 columns</p>\n",
              "</div>\n",
              "      <button class=\"colab-df-convert\" onclick=\"convertToInteractive('df-de1e6db3-74c7-47a4-8fab-3e503da5a782')\"\n",
              "              title=\"Convert this dataframe to an interactive table.\"\n",
              "              style=\"display:none;\">\n",
              "        \n",
              "  <svg xmlns=\"http://www.w3.org/2000/svg\" height=\"24px\"viewBox=\"0 0 24 24\"\n",
              "       width=\"24px\">\n",
              "    <path d=\"M0 0h24v24H0V0z\" fill=\"none\"/>\n",
              "    <path d=\"M18.56 5.44l.94 2.06.94-2.06 2.06-.94-2.06-.94-.94-2.06-.94 2.06-2.06.94zm-11 1L8.5 8.5l.94-2.06 2.06-.94-2.06-.94L8.5 2.5l-.94 2.06-2.06.94zm10 10l.94 2.06.94-2.06 2.06-.94-2.06-.94-.94-2.06-.94 2.06-2.06.94z\"/><path d=\"M17.41 7.96l-1.37-1.37c-.4-.4-.92-.59-1.43-.59-.52 0-1.04.2-1.43.59L10.3 9.45l-7.72 7.72c-.78.78-.78 2.05 0 2.83L4 21.41c.39.39.9.59 1.41.59.51 0 1.02-.2 1.41-.59l7.78-7.78 2.81-2.81c.8-.78.8-2.07 0-2.86zM5.41 20L4 18.59l7.72-7.72 1.47 1.35L5.41 20z\"/>\n",
              "  </svg>\n",
              "      </button>\n",
              "      \n",
              "  <style>\n",
              "    .colab-df-container {\n",
              "      display:flex;\n",
              "      flex-wrap:wrap;\n",
              "      gap: 12px;\n",
              "    }\n",
              "\n",
              "    .colab-df-convert {\n",
              "      background-color: #E8F0FE;\n",
              "      border: none;\n",
              "      border-radius: 50%;\n",
              "      cursor: pointer;\n",
              "      display: none;\n",
              "      fill: #1967D2;\n",
              "      height: 32px;\n",
              "      padding: 0 0 0 0;\n",
              "      width: 32px;\n",
              "    }\n",
              "\n",
              "    .colab-df-convert:hover {\n",
              "      background-color: #E2EBFA;\n",
              "      box-shadow: 0px 1px 2px rgba(60, 64, 67, 0.3), 0px 1px 3px 1px rgba(60, 64, 67, 0.15);\n",
              "      fill: #174EA6;\n",
              "    }\n",
              "\n",
              "    [theme=dark] .colab-df-convert {\n",
              "      background-color: #3B4455;\n",
              "      fill: #D2E3FC;\n",
              "    }\n",
              "\n",
              "    [theme=dark] .colab-df-convert:hover {\n",
              "      background-color: #434B5C;\n",
              "      box-shadow: 0px 1px 3px 1px rgba(0, 0, 0, 0.15);\n",
              "      filter: drop-shadow(0px 1px 2px rgba(0, 0, 0, 0.3));\n",
              "      fill: #FFFFFF;\n",
              "    }\n",
              "  </style>\n",
              "\n",
              "      <script>\n",
              "        const buttonEl =\n",
              "          document.querySelector('#df-de1e6db3-74c7-47a4-8fab-3e503da5a782 button.colab-df-convert');\n",
              "        buttonEl.style.display =\n",
              "          google.colab.kernel.accessAllowed ? 'block' : 'none';\n",
              "\n",
              "        async function convertToInteractive(key) {\n",
              "          const element = document.querySelector('#df-de1e6db3-74c7-47a4-8fab-3e503da5a782');\n",
              "          const dataTable =\n",
              "            await google.colab.kernel.invokeFunction('convertToInteractive',\n",
              "                                                     [key], {});\n",
              "          if (!dataTable) return;\n",
              "\n",
              "          const docLinkHtml = 'Like what you see? Visit the ' +\n",
              "            '<a target=\"_blank\" href=https://colab.research.google.com/notebooks/data_table.ipynb>data table notebook</a>'\n",
              "            + ' to learn more about interactive tables.';\n",
              "          element.innerHTML = '';\n",
              "          dataTable['output_type'] = 'display_data';\n",
              "          await google.colab.output.renderOutput(dataTable, element);\n",
              "          const docLink = document.createElement('div');\n",
              "          docLink.innerHTML = docLinkHtml;\n",
              "          element.appendChild(docLink);\n",
              "        }\n",
              "      </script>\n",
              "    </div>\n",
              "  </div>\n",
              "  "
            ]
          },
          "metadata": {},
          "execution_count": 138
        }
      ]
    },
    {
      "cell_type": "code",
      "source": [
        "# Examine one particular column of the data frame \n",
        "#df.population\n",
        "#df.total_rooms\n",
        "#df.median_income\n",
        "df.median_house_value"
      ],
      "metadata": {
        "id": "_8IkeAr5nZdA",
        "colab": {
          "base_uri": "https://localhost:8080/"
        },
        "outputId": "46623a6a-86fc-42b9-b435-ca90ed1130cd"
      },
      "execution_count": null,
      "outputs": [
        {
          "output_type": "execute_result",
          "data": {
            "text/plain": [
              "0         66900.0\n",
              "1         80100.0\n",
              "2         85700.0\n",
              "3         73400.0\n",
              "4         65500.0\n",
              "           ...   \n",
              "16995    111400.0\n",
              "16996     79000.0\n",
              "16997    103600.0\n",
              "16998     85800.0\n",
              "16999     94600.0\n",
              "Name: median_house_value, Length: 17000, dtype: float64"
            ]
          },
          "metadata": {},
          "execution_count": 119
        }
      ]
    },
    {
      "cell_type": "code",
      "source": [
        "# Convert one of the columns from the dataframe to a numpy array\n",
        "data = df.median_house_value.to_numpy()\n",
        "data"
      ],
      "metadata": {
        "id": "uTysUlIRIymh",
        "colab": {
          "base_uri": "https://localhost:8080/"
        },
        "outputId": "f039a8a6-4994-4689-8b6a-dd300c221b72"
      },
      "execution_count": null,
      "outputs": [
        {
          "output_type": "execute_result",
          "data": {
            "text/plain": [
              "array([344700., 176500., 270500., ...,  62000., 162500., 500001.])"
            ]
          },
          "metadata": {},
          "execution_count": 139
        }
      ]
    },
    {
      "cell_type": "code",
      "source": [
        "# Generate an array to use for the y-values (either zeros or actual data)\n",
        "ydata = [0]*len(data)\n",
        "#ydata = df.population.to_numpy()  #option for 2D clustering"
      ],
      "metadata": {
        "id": "-f31AlayKxp1"
      },
      "execution_count": null,
      "outputs": []
    },
    {
      "cell_type": "code",
      "source": [
        "# Plot the new set of data\n",
        "# Note: With a very large data set, 1D data will likely look like a straight line\n",
        "# but clusters may be much more visible with 2D data\n",
        "plt.scatter(data, ydata)"
      ],
      "metadata": {
        "id": "2v0FJ12UWhJh",
        "colab": {
          "base_uri": "https://localhost:8080/",
          "height": 447
        },
        "outputId": "ef4fb6a5-9857-4fa6-be36-ef19b5f7fe63"
      },
      "execution_count": null,
      "outputs": [
        {
          "output_type": "execute_result",
          "data": {
            "text/plain": [
              "<matplotlib.collections.PathCollection at 0x7f9f29bf1b70>"
            ]
          },
          "metadata": {},
          "execution_count": 143
        },
        {
          "output_type": "display_data",
          "data": {
            "text/plain": [
              "<Figure size 640x480 with 1 Axes>"
            ],
            "image/png": "[encoded data removed]"
          },
          "metadata": {}
        }
      ]
    },
    {
      "cell_type": "markdown",
      "source": [
        "# (4) Setting up the k-means Clustering Algorithm\n",
        "Now that we have data to work with, we should begin setting up the structure for our k-means clustering algorithm.\n",
        "\n",
        "\n",
        "\n",
        "Important design decisions include: \n",
        "* `k` - How many clusters do we want to sort the data into?\n",
        "* `centroids` - What is the value at the center of all the data points of a particular cluster?  How will we decide on the initial centroid values of those clusters?\n",
        "* `labels` - How will we determine which cluster each data point will be assigned to?"
      ],
      "metadata": {
        "id": "yi8jvu09W7DC"
      }
    },
    {
      "cell_type": "markdown",
      "source": [
        "Useful numpy functions:\n",
        "* [np.random.choice](https://numpy.org/doc/stable/reference/random/generated/numpy.random.choice.html#numpy-random-choice) - chooses a random number from an array\n",
        "* [np.random.uniform](https://numpy.org/doc/stable/reference/random/generated/numpy.random.uniform.html) - generates a random float across a range\n",
        "* [np.min](https://numpy.org/doc/stable/reference/generated/numpy.ndarray.min.html) - selects the minimum value from a numpy array\n",
        "* [np.max](https://numpy.org/doc/stable/reference/generated/numpy.ndarray.max.html) - selects the maximum value from a numpy array\n",
        "* [np.zeros](https://numpy.org/doc/stable/reference/generated/numpy.zeros.html#numpy.zeros) - generates an array of zeros"
      ],
      "metadata": {
        "id": "gG_YFCdfXuV1"
      }
    },
    {
      "cell_type": "code",
      "source": [
        "# Define the number of clusters (k) you expect in the data\n",
        "k = 3"
      ],
      "metadata": {
        "id": "edwHSiBhj6Wc"
      },
      "execution_count": null,
      "outputs": []
    },
    {
      "cell_type": "code",
      "source": [
        "# Choose 3 random points to be your starting values for the centroids\n",
        "# Note: Make sure no 2 centroids are the same value\n",
        "centroids = np.random.choice(data, size=k, replace=False)\n",
        "#centroids = np.random.uniform(np.min(data), np.max(data), size=k)\n",
        "centroids"
      ],
      "metadata": {
        "colab": {
          "base_uri": "https://localhost:8080/"
        },
        "id": "Qrzv1qtyj8Jk",
        "outputId": "6ac88fef-86cd-4d85-b677-61e7d8c0d2a2"
      },
      "execution_count": null,
      "outputs": [
        {
          "output_type": "execute_result",
          "data": {
            "text/plain": [
              "array([310500., 350000., 225000.])"
            ]
          },
          "metadata": {},
          "execution_count": 124
        }
      ]
    },
    {
      "cell_type": "code",
      "source": [
        "# Create an array of zeros that will store the labels for which cluster each data point should belong to\n",
        "# (ie. Cluster label 0, Cluster label 1, and Cluster label 2, etc)\n",
        "# Note: We need these to be integers and not floats, so use the dtype=np.int8 parameter\n",
        "labels = np.zeros((len(data)), dtype = np.int8)\n",
        "labels"
      ],
      "metadata": {
        "colab": {
          "base_uri": "https://localhost:8080/"
        },
        "id": "Vj8SJl78kA4q",
        "outputId": "9710e2aa-ab7b-438a-f322-4918faf8322b"
      },
      "execution_count": null,
      "outputs": [
        {
          "output_type": "execute_result",
          "data": {
            "text/plain": [
              "array([0, 0, 0, ..., 0, 0, 0], dtype=int8)"
            ]
          },
          "metadata": {},
          "execution_count": 125
        }
      ]
    },
    {
      "cell_type": "markdown",
      "source": [
        "# (5) Updating clusters (centroids & labels)\n",
        "To continue the k-means clustering algorithm, we now need to assign every data point to one of our clusters, depending on which cluster's centroid is closest."
      ],
      "metadata": {
        "id": "IOgH04ROawXo"
      }
    },
    {
      "cell_type": "markdown",
      "source": [
        "Useful numpy functions:\n",
        "* [np.zeros](https://numpy.org/doc/stable/reference/generated/numpy.zeros.html#numpy.zeros) - generates an array of zeros\n",
        "* [np.argmin](https://numpy.org/doc/stable/reference/generated/numpy.argmin.html) - returns the index of the minimum value of an array\n",
        "* [np.mean](https://numpy.org/doc/stable/reference/generated/numpy.mean.html#numpy.mean) - finds the mean of an array"
      ],
      "metadata": {
        "id": "xM-j_elFZwTj"
      }
    },
    {
      "cell_type": "markdown",
      "source": [
        "## Option 5A: Updating Clusters Once\n",
        "Write segments of code that will create a first guess at the best way to cluster the data points."
      ],
      "metadata": {
        "id": "-6gPiYIomJF4"
      }
    },
    {
      "cell_type": "code",
      "source": [
        "# For every data-point, calculate the distance to each of the k centroids\n",
        "# Store the distances in an array (data's size-long) of arrays (k-long) \n",
        "distances = np.zeros((len(data), k))\n",
        "for i in range(k):\n",
        "  distances[:,i] = abs(data - centroids[i])\n",
        "distances"
      ],
      "metadata": {
        "colab": {
          "base_uri": "https://localhost:8080/"
        },
        "id": "iWiBXCOazUD_",
        "outputId": "9d8c293d-1ca1-4648-ce57-ecde9ce73aa9"
      },
      "execution_count": null,
      "outputs": [
        {
          "output_type": "execute_result",
          "data": {
            "text/plain": [
              "array([[243600., 283100., 158100.],\n",
              "       [230400., 269900., 144900.],\n",
              "       [224800., 264300., 139300.],\n",
              "       ...,\n",
              "       [206900., 246400., 121400.],\n",
              "       [224700., 264200., 139200.],\n",
              "       [215900., 255400., 130400.]])"
            ]
          },
          "metadata": {},
          "execution_count": 126
        }
      ]
    },
    {
      "cell_type": "code",
      "source": [
        "# Assign each data-point to a cluster (whichever centroid is closest)\n",
        "for i in range(len(distances)):\n",
        "    labels[i] = (np.argmin(distances[i]))\n",
        "labels"
      ],
      "metadata": {
        "colab": {
          "base_uri": "https://localhost:8080/"
        },
        "id": "3yaQ8KqmzlRG",
        "outputId": "0530af6d-db9e-4e9c-e794-84b3219854d2"
      },
      "execution_count": null,
      "outputs": [
        {
          "output_type": "execute_result",
          "data": {
            "text/plain": [
              "array([2, 2, 2, ..., 2, 2, 2], dtype=int8)"
            ]
          },
          "metadata": {},
          "execution_count": 127
        }
      ]
    },
    {
      "cell_type": "code",
      "source": [
        "# Update the centroid values to better match the assigned data-points\n",
        "# Note: You can filter out a subset of the array with [labels == i]\n",
        "for i in range(k):\n",
        "    centroids[i] = np.mean(data[labels == i])\n",
        "centroids"
      ],
      "metadata": {
        "id": "mEo5S8zA6AKT",
        "colab": {
          "base_uri": "https://localhost:8080/"
        },
        "outputId": "f6dfebcb-d6fa-423b-f01b-27211bf63ba2"
      },
      "execution_count": null,
      "outputs": [
        {
          "output_type": "execute_result",
          "data": {
            "text/plain": [
              "array([294899.33110368, 423699.1331058 , 152777.92943736])"
            ]
          },
          "metadata": {},
          "execution_count": 128
        }
      ]
    },
    {
      "cell_type": "code",
      "source": [
        "# Generate ycentroids\n",
        "# Note: if 1D data, make an array of zeros the same length as the xcentroids\n",
        "ycentroids = np.zeros(len(centroids))\n",
        "ycentroids"
      ],
      "metadata": {
        "id": "hnUPy0LToTu7",
        "colab": {
          "base_uri": "https://localhost:8080/"
        },
        "outputId": "aa061c0a-9382-44ce-b53d-be6e3cf907ae"
      },
      "execution_count": null,
      "outputs": [
        {
          "output_type": "execute_result",
          "data": {
            "text/plain": [
              "array([0., 0., 0.])"
            ]
          },
          "metadata": {},
          "execution_count": 129
        }
      ]
    },
    {
      "cell_type": "markdown",
      "source": [
        "## Option 5B: Updating Clusters in a Loop (n Times)\n",
        "Write a code block that will repeat all of the code blocks from Section 5A a constant number of times, `n`."
      ],
      "metadata": {
        "id": "LQJE-7Gfa1Cg"
      }
    },
    {
      "cell_type": "code",
      "source": [
        "# Copy all of Updating Clusters code (5A) into a loop\n",
        "# Setup the loop to exit after n times\n",
        "\n",
        "n=100\n",
        "for x in range(n):\n",
        "  # For every data-point, calculate the distance to each of the k centroids\n",
        "  # Store the distances in an array (xdata's size-long) of arrays (k-long) \n",
        "  distances = np.zeros((len(data), k))\n",
        "  for i in range(k):\n",
        "    distances[:,i] = abs(data - centroids[i])\n",
        "\n",
        "  # Assign each data-point to a cluster (whichever centroid is closest)\n",
        "  # Note: argmin() finds the index , not value\n",
        "  for i in range(len(distances)):\n",
        "      labels[i] = (np.argmin(distances[i]))\n",
        "\n",
        "  # Update the centroid values to better match the assigned data-points\n",
        "  # Note: You can filter out a subset of the array with [labels == i]\n",
        "  for i in range(k):\n",
        "      centroids[i] = np.mean(data[labels == i])\n",
        "\n",
        "  # Generate ycentroids\n",
        "  # Note: if 1D data, make an array of zeros the same length as the xcentroids\n",
        "  ycentroids = np.zeros(len(centroids))\n",
        "\n",
        "  #print out the centroids each iteration of the loop\n",
        "  print(i,centroids)"
      ],
      "metadata": {
        "colab": {
          "base_uri": "https://localhost:8080/"
        },
        "id": "FH_qDi3Cmlih",
        "outputId": "f00f385c-5ae2-44f5-deed-e47179f1ca1a"
      },
      "execution_count": null,
      "outputs": [
        {
          "output_type": "stream",
          "name": "stdout",
          "text": [
            "[278562.9985229  449332.47064727 136781.45235267]\n",
            "[269541.94002817 453093.67556253 130326.04703557]\n",
            "[264314.54614508 450783.94390617 127724.1170572 ]\n",
            "[260941.06414535 448073.88124691 126347.63651539]\n",
            "[258328.44921733 445937.17448043 125274.45120271]\n",
            "[256241.32901135 443838.03212093 124501.85380493]\n",
            "[254393.74110953 442289.09150023 123729.44768513]\n",
            "[251923.03860523 438655.07095047 123115.57189757]\n",
            "[250084.58806818 436216.47002606 122597.48466799]\n",
            "[247854.00313972 434606.4080239  121569.44150605]\n",
            "[245910.49542551 432751.15600167 120785.84346642]\n",
            "[244060.02737851 430895.86639344 120059.98118403]\n",
            "[242584.61928934 429773.32550607 119361.98329466]\n",
            "[241337.95069596 428768.04725671 118780.26885246]\n",
            "[240347.45989305 427661.69924812 118409.14077041]\n",
            "[239521.957716   426822.94666667 118075.16238304]\n",
            "[238826.97674419 426025.04432348 117821.20551855]\n",
            "[238317.84411277 425448.11205564 117632.92722501]\n",
            "[237813.37190083 425017.62076923 117401.05341317]\n",
            "[237536.63366337 424766.97890295 117277.81063243]\n",
            "[237233.60263809 424409.82575468 117169.17480164]\n",
            "[237032.38879736 424196.1547846  117089.49030938]\n",
            "[236801.97433366 423982.88855078 116988.07379718]\n",
            "[236650.41131951 423770.02428843 116944.64776155]\n",
            "[236580.23026316 423699.1331058  116915.74260534]\n",
            "[236549.42415268 423628.27358848 116915.74260534]\n",
            "[236549.42415268 423628.27358848 116915.74260534]\n",
            "[236549.42415268 423628.27358848 116915.74260534]\n",
            "[236549.42415268 423628.27358848 116915.74260534]\n",
            "[236549.42415268 423628.27358848 116915.74260534]\n",
            "[236549.42415268 423628.27358848 116915.74260534]\n",
            "[236549.42415268 423628.27358848 116915.74260534]\n",
            "[236549.42415268 423628.27358848 116915.74260534]\n",
            "[236549.42415268 423628.27358848 116915.74260534]\n",
            "[236549.42415268 423628.27358848 116915.74260534]\n",
            "[236549.42415268 423628.27358848 116915.74260534]\n",
            "[236549.42415268 423628.27358848 116915.74260534]\n",
            "[236549.42415268 423628.27358848 116915.74260534]\n",
            "[236549.42415268 423628.27358848 116915.74260534]\n",
            "[236549.42415268 423628.27358848 116915.74260534]\n",
            "[236549.42415268 423628.27358848 116915.74260534]\n",
            "[236549.42415268 423628.27358848 116915.74260534]\n",
            "[236549.42415268 423628.27358848 116915.74260534]\n",
            "[236549.42415268 423628.27358848 116915.74260534]\n",
            "[236549.42415268 423628.27358848 116915.74260534]\n",
            "[236549.42415268 423628.27358848 116915.74260534]\n",
            "[236549.42415268 423628.27358848 116915.74260534]\n",
            "[236549.42415268 423628.27358848 116915.74260534]\n",
            "[236549.42415268 423628.27358848 116915.74260534]\n",
            "[236549.42415268 423628.27358848 116915.74260534]\n",
            "[236549.42415268 423628.27358848 116915.74260534]\n",
            "[236549.42415268 423628.27358848 116915.74260534]\n",
            "[236549.42415268 423628.27358848 116915.74260534]\n",
            "[236549.42415268 423628.27358848 116915.74260534]\n",
            "[236549.42415268 423628.27358848 116915.74260534]\n",
            "[236549.42415268 423628.27358848 116915.74260534]\n",
            "[236549.42415268 423628.27358848 116915.74260534]\n",
            "[236549.42415268 423628.27358848 116915.74260534]\n",
            "[236549.42415268 423628.27358848 116915.74260534]\n",
            "[236549.42415268 423628.27358848 116915.74260534]\n",
            "[236549.42415268 423628.27358848 116915.74260534]\n",
            "[236549.42415268 423628.27358848 116915.74260534]\n",
            "[236549.42415268 423628.27358848 116915.74260534]\n",
            "[236549.42415268 423628.27358848 116915.74260534]\n",
            "[236549.42415268 423628.27358848 116915.74260534]\n",
            "[236549.42415268 423628.27358848 116915.74260534]\n",
            "[236549.42415268 423628.27358848 116915.74260534]\n",
            "[236549.42415268 423628.27358848 116915.74260534]\n",
            "[236549.42415268 423628.27358848 116915.74260534]\n",
            "[236549.42415268 423628.27358848 116915.74260534]\n",
            "[236549.42415268 423628.27358848 116915.74260534]\n",
            "[236549.42415268 423628.27358848 116915.74260534]\n",
            "[236549.42415268 423628.27358848 116915.74260534]\n",
            "[236549.42415268 423628.27358848 116915.74260534]\n",
            "[236549.42415268 423628.27358848 116915.74260534]\n",
            "[236549.42415268 423628.27358848 116915.74260534]\n",
            "[236549.42415268 423628.27358848 116915.74260534]\n",
            "[236549.42415268 423628.27358848 116915.74260534]\n",
            "[236549.42415268 423628.27358848 116915.74260534]\n",
            "[236549.42415268 423628.27358848 116915.74260534]\n",
            "[236549.42415268 423628.27358848 116915.74260534]\n",
            "[236549.42415268 423628.27358848 116915.74260534]\n",
            "[236549.42415268 423628.27358848 116915.74260534]\n",
            "[236549.42415268 423628.27358848 116915.74260534]\n",
            "[236549.42415268 423628.27358848 116915.74260534]\n",
            "[236549.42415268 423628.27358848 116915.74260534]\n",
            "[236549.42415268 423628.27358848 116915.74260534]\n",
            "[236549.42415268 423628.27358848 116915.74260534]\n",
            "[236549.42415268 423628.27358848 116915.74260534]\n",
            "[236549.42415268 423628.27358848 116915.74260534]\n",
            "[236549.42415268 423628.27358848 116915.74260534]\n",
            "[236549.42415268 423628.27358848 116915.74260534]\n",
            "[236549.42415268 423628.27358848 116915.74260534]\n",
            "[236549.42415268 423628.27358848 116915.74260534]\n",
            "[236549.42415268 423628.27358848 116915.74260534]\n",
            "[236549.42415268 423628.27358848 116915.74260534]\n",
            "[236549.42415268 423628.27358848 116915.74260534]\n",
            "[236549.42415268 423628.27358848 116915.74260534]\n",
            "[236549.42415268 423628.27358848 116915.74260534]\n",
            "[236549.42415268 423628.27358848 116915.74260534]\n"
          ]
        }
      ]
    },
    {
      "cell_type": "markdown",
      "source": [
        "## Option 5C: Updating Clusters Until Convergence\n",
        "Write a code block that will repeat all of the code blocks from Section 5A until the clusters converge stop changing or \"converge\".  Convergence can be checked for if either the labels array or the centroids are stop changing.\n",
        "\n"
      ],
      "metadata": {
        "id": "ElzDq468bbop"
      }
    },
    {
      "cell_type": "markdown",
      "source": [
        "Additional features within your loop should:\n",
        "* `# Store the labels/centroids from each previous iteration`\n",
        "* `# Check if the old labels/centroids are equivalent to the new labels/centroids`"
      ],
      "metadata": {
        "id": "HjXNnY8RiIxK"
      }
    },
    {
      "cell_type": "code",
      "source": [
        "# Copy all of Updating Clusters code (5A) into a loop\n",
        "# Setup the loop to exit after convergence\n",
        "# [OPTIONAL] Setup the loop to exit after convergence OR end early after n iterations\n",
        "\n"
      ],
      "metadata": {
        "id": "4krRtYhqONmE"
      },
      "execution_count": null,
      "outputs": []
    },
    {
      "cell_type": "markdown",
      "source": [
        "# (6) Plotting the Clusters\n",
        "Use the matplotlib functions to display a graph showing the data points colored by cluster with clear markers indicating where the centroids are for each cluster."
      ],
      "metadata": {
        "id": "eCSS9nbKcEYr"
      }
    },
    {
      "cell_type": "markdown",
      "source": [
        "Useful matplotlib functions:\n",
        "* [plt.scatter](https://matplotlib.org/stable/api/_as_gen/matplotlib.pyplot.scatter.html#matplotlib.pyplot.scatter) - plots a scatterplot\n",
        "  * `x` parameter to specify data on horizontal axis\n",
        "  * `y` parameter to specify data on vertical axis\n",
        "  * `s` paramter to specify size of the plot marker\n",
        "  * `c` parameter to specify a list to color\n",
        "  * `marker` parameter to choose a [shape/character](https://matplotlib.org/stable/api/markers_api.html) to mark points\n",
        "  * `linewidths` parameter to specify how thick the marker should be\n",
        "  * `color` parameter to specify one specific color\n",
        "* [plt.xlabel](https://matplotlib.org/stable/api/_as_gen/matplotlib.pyplot.xlabel.html) - adds label to x-axis\n",
        "* [plt.ylabel](https://matplotlib.org/stable/api/_as_gen/matplotlib.pyplot.ylabel.html) - adds label to y-axis\n",
        "* [plt.title](https://matplotlib.org/stable/api/_as_gen/matplotlib.pyplot.title.html) - adds title to plot\n",
        "* [plt.show](https://matplotlib.org/stable/api/_as_gen/matplotlib.pyplot.show.html) - used to show a plot after using multiple plot commands"
      ],
      "metadata": {
        "id": "FB2pY6zTccCv"
      }
    },
    {
      "cell_type": "code",
      "source": [
        "# Create a scatterplot with all the datapoints\n",
        "# Note: Use c=labels parameter to color the dots based on their cluster\n",
        "plt.scatter(data, ydata, c = labels)"
      ],
      "metadata": {
        "colab": {
          "base_uri": "https://localhost:8080/"
        },
        "id": "kVC7eA9kqSHp",
        "outputId": "fcf2493c-fc6f-471c-d10f-02ad147f40da"
      },
      "execution_count": null,
      "outputs": [
        {
          "output_type": "execute_result",
          "data": {
            "text/plain": [
              "<matplotlib.collections.PathCollection at 0x7f9f299dc3a0>"
            ]
          },
          "metadata": {},
          "execution_count": 132
        },
        {
          "output_type": "display_data",
          "data": {
            "text/plain": [
              "<Figure size 640x480 with 1 Axes>"
            ],
            "image/png": "[encoded data removed]"
          },
          "metadata": {}
        }
      ]
    },
    {
      "cell_type": "code",
      "source": [
        "# Create a scatterplot that adds the centroids with a red plus-sign (+) markers\n",
        "# Note: Look in the documentation for the optional parameters to add\n",
        "plt.scatter(centroids, ycentroids, marker = '+', s = 200, linewidths = 3, color = 'r')"
      ],
      "metadata": {
        "colab": {
          "base_uri": "https://localhost:8080/"
        },
        "id": "KkLcrFUkqVIP",
        "outputId": "f60e0fce-e99a-482a-bf7f-f86501e80fd0"
      },
      "execution_count": null,
      "outputs": [
        {
          "output_type": "execute_result",
          "data": {
            "text/plain": [
              "<matplotlib.collections.PathCollection at 0x7f9f29a23d60>"
            ]
          },
          "metadata": {},
          "execution_count": 133
        },
        {
          "output_type": "display_data",
          "data": {
            "text/plain": [
              "<Figure size 640x480 with 1 Axes>"
            ],
            "image/png": "[encoded data removed]"
          },
          "metadata": {}
        }
      ]
    },
    {
      "cell_type": "code",
      "source": [
        "# Plot both the datapoints AND red plus-sign(+)'s on the same plot\n",
        "# Note: Copy the lines of code from the previous block \n",
        "plt.scatter(data, ydata, c = labels)\n",
        "plt.scatter(centroids, ycentroids, marker = '+', s = 200, linewidths = 3, color = 'r')\n",
        "\n",
        "#display the scatterplot\n",
        "plt.show()"
      ],
      "metadata": {
        "colab": {
          "base_uri": "https://localhost:8080/"
        },
        "id": "nmHnTNggqYfI",
        "outputId": "113f2b38-9011-423a-ace3-26cc273e147c"
      },
      "execution_count": null,
      "outputs": [
        {
          "output_type": "display_data",
          "data": {
            "text/plain": [
              "<Figure size 640x480 with 1 Axes>"
            ],
            "image/png": "[encoded data removed]"
          },
          "metadata": {}
        }
      ]
    }
  ]
}